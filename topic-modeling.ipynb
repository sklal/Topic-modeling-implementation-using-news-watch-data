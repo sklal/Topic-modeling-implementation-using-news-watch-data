{
 "cells": [
  {
   "cell_type": "code",
   "execution_count": 64,
   "metadata": {},
   "outputs": [
    {
     "name": "stderr",
     "output_type": "stream",
     "text": [
      "C:\\Users\\sanat\\AppData\\Roaming\\Python\\Python37\\site-packages\\ipykernel\\ipkernel.py:287: DeprecationWarning: `should_run_async` will not call `transform_cell` automatically in the future. Please pass the result to `transformed_cell` argument and any exception that happen during thetransform in `preprocessing_exc_tuple` in IPython 7.17 and above.\n",
      "  and should_run_async(code)\n"
     ]
    },
    {
     "name": "stdout",
     "output_type": "stream",
     "text": [
      "We have total of 1888 Training Documents from 5 different categories.\n"
     ]
    },
    {
     "data": {
      "text/html": [
       "<div>\n",
       "<style scoped>\n",
       "    .dataframe tbody tr th:only-of-type {\n",
       "        vertical-align: middle;\n",
       "    }\n",
       "\n",
       "    .dataframe tbody tr th {\n",
       "        vertical-align: top;\n",
       "    }\n",
       "\n",
       "    .dataframe thead th {\n",
       "        text-align: right;\n",
       "    }\n",
       "</style>\n",
       "<table border=\"1\" class=\"dataframe\">\n",
       "  <thead>\n",
       "    <tr style=\"text-align: right;\">\n",
       "      <th></th>\n",
       "      <th>News</th>\n",
       "    </tr>\n",
       "  </thead>\n",
       "  <tbody>\n",
       "    <tr>\n",
       "      <th>business_001.txt</th>\n",
       "      <td>Ad sales boost Time Warner profit\\n\\nQuarterly profits at US media giant TimeWarner jumped 76% t...</td>\n",
       "    </tr>\n",
       "    <tr>\n",
       "      <th>business_002.txt</th>\n",
       "      <td>Dollar gains on Greenspan speech\\n\\nThe dollar has hit its highest level against the euro in alm...</td>\n",
       "    </tr>\n",
       "    <tr>\n",
       "      <th>business_003.txt</th>\n",
       "      <td>Yukos unit buyer faces loan claim\\n\\nThe owners of embattled Russian oil giant Yukos are to ask ...</td>\n",
       "    </tr>\n",
       "    <tr>\n",
       "      <th>business_004.txt</th>\n",
       "      <td>High fuel prices hit BA's profits\\n\\nBritish Airways has blamed high fuel prices for a 40% drop ...</td>\n",
       "    </tr>\n",
       "    <tr>\n",
       "      <th>business_005.txt</th>\n",
       "      <td>Pernod takeover talk lifts Domecq\\n\\nShares in UK drinks and food firm Allied Domecq have risen ...</td>\n",
       "    </tr>\n",
       "  </tbody>\n",
       "</table>\n",
       "</div>"
      ],
      "text/plain": [
       "                                                                                                                 News\n",
       "business_001.txt  Ad sales boost Time Warner profit\\n\\nQuarterly profits at US media giant TimeWarner jumped 76% t...\n",
       "business_002.txt  Dollar gains on Greenspan speech\\n\\nThe dollar has hit its highest level against the euro in alm...\n",
       "business_003.txt  Yukos unit buyer faces loan claim\\n\\nThe owners of embattled Russian oil giant Yukos are to ask ...\n",
       "business_004.txt  High fuel prices hit BA's profits\\n\\nBritish Airways has blamed high fuel prices for a 40% drop ...\n",
       "business_005.txt  Pernod takeover talk lifts Domecq\\n\\nShares in UK drinks and food firm Allied Domecq have risen ..."
      ]
     },
     "execution_count": 64,
     "metadata": {},
     "output_type": "execute_result"
    }
   ],
   "source": [
    "import os\n",
    "# Run in terminal or command prompt\n",
    "# python3 -m spacy download en\n",
    "import numpy as np\n",
    "import pandas as pd\n",
    "import re, nltk, spacy, gensim\n",
    "# Sklearn\n",
    "from sklearn.decomposition import LatentDirichletAllocation, TruncatedSVD\n",
    "from sklearn.feature_extraction.text import CountVectorizer, TfidfVectorizer\n",
    "from sklearn.model_selection import GridSearchCV\n",
    "from pprint import pprint\n",
    "import pyLDAvis\n",
    "import pyLDAvis.gensim\n",
    "news_categories = [\"business\",\"entertainment\",\"politics\",\"sport\",\"tech\"]\n",
    "\n",
    "\n",
    "\n",
    "\n",
    "train_docs_list = []\n",
    "train_news = []\n",
    "\n",
    "for category in news_categories:\n",
    "    for news in os.listdir(\"dataset/train/\" + str(category)):\n",
    "        f = open(\"dataset/train/\" + str(category) + \"/\" + str(news),\"r\")\n",
    "        train_news.append(f.read())\n",
    "        train_docs_list.append(str(category) + \"_\" + str(news))\n",
    "    \n",
    "\n",
    "train_raw_df = pd.DataFrame(train_news,columns=[\"News\"])\n",
    "train_raw_df.index = train_docs_list\n",
    "\n",
    "print(\"We have total of \" + str(train_raw_df.shape[0]) + \" Training Documents from 5 different categories.\")\n",
    "\n",
    "train_raw_df.head()"
   ]
  },
  {
   "cell_type": "code",
   "execution_count": 67,
   "metadata": {},
   "outputs": [
    {
     "name": "stderr",
     "output_type": "stream",
     "text": [
      "C:\\Users\\sanat\\AppData\\Roaming\\Python\\Python37\\site-packages\\ipykernel\\ipkernel.py:287: DeprecationWarning: `should_run_async` will not call `transform_cell` automatically in the future. Please pass the result to `transformed_cell` argument and any exception that happen during thetransform in `preprocessing_exc_tuple` in IPython 7.17 and above.\n",
      "  and should_run_async(code)\n",
      "[nltk_data] Downloading package stopwords to\n",
      "[nltk_data]     C:\\Users\\sanat\\AppData\\Roaming\\nltk_data...\n",
      "[nltk_data]   Package stopwords is already up-to-date!\n"
     ]
    }
   ],
   "source": [
    "\n",
    "nltk.download('stopwords')\n",
    "from nltk.corpus import stopwords\n",
    "stop_words = stopwords.words('english')"
   ]
  },
  {
   "cell_type": "code",
   "execution_count": 68,
   "metadata": {},
   "outputs": [
    {
     "name": "stderr",
     "output_type": "stream",
     "text": [
      "C:\\Users\\sanat\\AppData\\Roaming\\Python\\Python37\\site-packages\\ipykernel\\ipkernel.py:287: DeprecationWarning: `should_run_async` will not call `transform_cell` automatically in the future. Please pass the result to `transformed_cell` argument and any exception that happen during thetransform in `preprocessing_exc_tuple` in IPython 7.17 and above.\n",
      "  and should_run_async(code)\n"
     ]
    }
   ],
   "source": [
    "stop_words.extend(['say','may','order','lot','go','like','great','service','came','got','use' , 'work' ,'would' , 'code' ,'want' , 'try' , 'way' , 'make' ,'find' , 'know' , 'make' , 'look' ,'get' ,'change' , 'see' , 'set', 'need' , 'example' ,'also' , 'however', 'run' , 'use' , 'try', 'use' ])"
   ]
  },
  {
   "cell_type": "code",
   "execution_count": 69,
   "metadata": {},
   "outputs": [
    {
     "name": "stderr",
     "output_type": "stream",
     "text": [
      "C:\\Users\\sanat\\AppData\\Roaming\\Python\\Python37\\site-packages\\ipykernel\\ipkernel.py:287: DeprecationWarning: `should_run_async` will not call `transform_cell` automatically in the future. Please pass the result to `transformed_cell` argument and any exception that happen during thetransform in `preprocessing_exc_tuple` in IPython 7.17 and above.\n",
      "  and should_run_async(code)\n"
     ]
    }
   ],
   "source": [
    "\n",
    "def normalize_text(text):\n",
    "    tm1 = re.sub('<pre>.*?</pre>', '', text, flags=re.DOTALL)\n",
    "    tm2 = re.sub('<code>.*?</code>', '', tm1, flags=re.DOTALL)\n",
    "    tm3 = re.sub('<[^>]+>', '', tm1, flags=re.DOTALL)\n",
    "    return tm3.replace(\"\\n\", \"\")\n"
   ]
  },
  {
   "cell_type": "code",
   "execution_count": 70,
   "metadata": {},
   "outputs": [
    {
     "name": "stderr",
     "output_type": "stream",
     "text": [
      "C:\\Users\\sanat\\AppData\\Roaming\\Python\\Python37\\site-packages\\ipykernel\\ipkernel.py:287: DeprecationWarning: `should_run_async` will not call `transform_cell` automatically in the future. Please pass the result to `transformed_cell` argument and any exception that happen during thetransform in `preprocessing_exc_tuple` in IPython 7.17 and above.\n",
      "  and should_run_async(code)\n"
     ]
    }
   ],
   "source": [
    "\n",
    "train_raw_df['News_Cleaned'] = train_raw_df['News'].apply(normalize_text)"
   ]
  },
  {
   "cell_type": "code",
   "execution_count": 71,
   "metadata": {},
   "outputs": [
    {
     "name": "stdout",
     "output_type": "stream",
     "text": [
      "Dollar gains on Greenspan speechThe dollar has hit its highest level against the euro in almost three months after the Federal Reserve head said the US trade deficit is set to stabilise.And Alan Greenspan highlighted the US government's willingness to curb spending and rising household savings as factors which may help to reduce it. In late trading in New York, the dollar reached $1.2871 against the euro, from $1.2974 on Thursday. Market concerns about the deficit has hit the greenback in recent months. On Friday, Federal Reserve chairman Mr Greenspan's speech in London ahead of the meeting of G7 finance ministers sent the dollar higher after it had earlier tumbled on the back of worse-than-expected US jobs data. \"I think the chairman's taking a much more sanguine view on the current account deficit than he's taken for some time,\" said Robert Sinche, head of currency strategy at Bank of America in New York. \"He's taking a longer-term view, laying out a set of conditions under which the current account deficit can improve this year and next.\"Worries about the deficit concerns about China do, however, remain. China's currency remains pegged to the dollar and the US currency's sharp falls in recent months have therefore made Chinese export prices highly competitive. But calls for a shift in Beijing's policy have fallen on deaf ears, despite recent comments in a major Chinese newspaper that the \"time is ripe\" for a loosening of the peg. The G7 meeting is thought unlikely to produce any meaningful movement in Chinese policy. In the meantime, the US Federal Reserve's decision on 2 February to boost interest rates by a quarter of a point - the sixth such move in as many months - has opened up a differential with European rates. The half-point window, some believe, could be enough to keep US assets looking more attractive, and could help prop up the dollar. The recent falls have partly been the result of big budget deficits, as well as the US's yawning current account gap, both of which need to be funded by the buying of US bonds and assets by foreign firms and governments. The White House will announce its budget on Monday, and many commentators believe the deficit will remain at close to half a trillion dollars.\n"
     ]
    },
    {
     "name": "stderr",
     "output_type": "stream",
     "text": [
      "C:\\Users\\sanat\\AppData\\Roaming\\Python\\Python37\\site-packages\\ipykernel\\ipkernel.py:287: DeprecationWarning: `should_run_async` will not call `transform_cell` automatically in the future. Please pass the result to `transformed_cell` argument and any exception that happen during thetransform in `preprocessing_exc_tuple` in IPython 7.17 and above.\n",
      "  and should_run_async(code)\n"
     ]
    }
   ],
   "source": [
    "print(train_raw_df.iloc[1]['News_Cleaned'])"
   ]
  },
  {
   "cell_type": "code",
   "execution_count": 72,
   "metadata": {},
   "outputs": [
    {
     "name": "stderr",
     "output_type": "stream",
     "text": [
      "C:\\Users\\sanat\\AppData\\Roaming\\Python\\Python37\\site-packages\\ipykernel\\ipkernel.py:287: DeprecationWarning: `should_run_async` will not call `transform_cell` automatically in the future. Please pass the result to `transformed_cell` argument and any exception that happen during thetransform in `preprocessing_exc_tuple` in IPython 7.17 and above.\n",
      "  and should_run_async(code)\n"
     ]
    }
   ],
   "source": [
    "nlp = spacy.load(\"en_core_web_sm\")\n"
   ]
  },
  {
   "cell_type": "code",
   "execution_count": 73,
   "metadata": {},
   "outputs": [
    {
     "name": "stderr",
     "output_type": "stream",
     "text": [
      "C:\\Users\\sanat\\AppData\\Roaming\\Python\\Python37\\site-packages\\ipykernel\\ipkernel.py:287: DeprecationWarning: `should_run_async` will not call `transform_cell` automatically in the future. Please pass the result to `transformed_cell` argument and any exception that happen during thetransform in `preprocessing_exc_tuple` in IPython 7.17 and above.\n",
      "  and should_run_async(code)\n"
     ]
    }
   ],
   "source": [
    "punctuations = '!\"#$%&\\'()*+,-/:;<=>?@[\\\\]^_`{|}~'\n",
    "# Define function to cleanup text by removing personal pronouns, stopwords, and puncuation\n",
    "def cleanup_text(docs, logging=False):\n",
    "    texts = []\n",
    "    doc = nlp(docs, disable=['parser', 'ner'])\n",
    "    tokens = [tok.lemma_.lower().strip() for tok in doc if tok.lemma_ != '-PRON-']\n",
    "    tokens = [tok for tok in tokens if tok not in stopwords.words('english') and tok not in punctuations]\n",
    "    tokens = ' '.join(tokens)\n",
    "    texts.append(tokens)\n",
    "    return pd.Series(texts)\n",
    "\n",
    "\n",
    "train_raw_df['News_Cleaned']  = train_raw_df['News_Cleaned'] .apply(lambda x: cleanup_text(x, False))"
   ]
  },
  {
   "cell_type": "code",
   "execution_count": 74,
   "metadata": {},
   "outputs": [
    {
     "name": "stdout",
     "output_type": "stream",
     "text": [
      "ad sale boost time warner profitquarterly profit us media giant timewarner jump 76 1.13bn â£600 three month december 639 year early . firm one big investor google benefit sale high speed internet connection high advert sale . timewarner say fourth quarter sale rise 2 11.1bn 10.9bn . profit buoy one gain offset profit dip warner bros less user aol.time warner say friday 8 search engine google . internet business aol mix fortune . lose 464,000 subscriber fourth quarter profit low precede three quarter . however company say aol 's underlie profit exceptional item rise 8 back strong internet advertising revenue . hope increase subscriber offer online service free timewarner internet customer try sign aol 's exist customer high speed broadband . timewarner also restate 2000 2003 result follow probe us securities exchange commission sec close conclude . time warner 's fourth quarter profit slightly well analyst expectation . film division see profit slump 27 284 help box office flop alexander catwoman sharp contrast year early third final film lord rings trilogy boost result . full year timewarner post profit 3.36bn 27 2003 performance revenue grow 6.4 42.09bn . financial performance strong meet exceed full year objective greatly enhance flexibility chairman chief executive richard parsons say . 2005 timewarner project operate earning growth around 5 also expect high revenue wide profit margin . timewarner restate account part effort resolve inquiry aol us market regulator . already offer pay 300 settle charge deal review sec . company say unable estimate amount need set aside legal reserve previously set 500 . intend adjust way account deal german music publisher bertelsmann 's purchase stake aol europe report advertising revenue . book sale stake aol europe loss value stake .\n"
     ]
    },
    {
     "name": "stderr",
     "output_type": "stream",
     "text": [
      "C:\\Users\\sanat\\AppData\\Roaming\\Python\\Python37\\site-packages\\ipykernel\\ipkernel.py:287: DeprecationWarning: `should_run_async` will not call `transform_cell` automatically in the future. Please pass the result to `transformed_cell` argument and any exception that happen during thetransform in `preprocessing_exc_tuple` in IPython 7.17 and above.\n",
      "  and should_run_async(code)\n"
     ]
    }
   ],
   "source": [
    "print(train_raw_df.iloc[0]['News_Cleaned'])"
   ]
  },
  {
   "cell_type": "code",
   "execution_count": 75,
   "metadata": {},
   "outputs": [
    {
     "name": "stderr",
     "output_type": "stream",
     "text": [
      "C:\\Users\\sanat\\AppData\\Roaming\\Python\\Python37\\site-packages\\ipykernel\\ipkernel.py:287: DeprecationWarning: `should_run_async` will not call `transform_cell` automatically in the future. Please pass the result to `transformed_cell` argument and any exception that happen during thetransform in `preprocessing_exc_tuple` in IPython 7.17 and above.\n",
      "  and should_run_async(code)\n"
     ]
    },
    {
     "data": {
      "text/html": [
       "<div>\n",
       "<style scoped>\n",
       "    .dataframe tbody tr th:only-of-type {\n",
       "        vertical-align: middle;\n",
       "    }\n",
       "\n",
       "    .dataframe tbody tr th {\n",
       "        vertical-align: top;\n",
       "    }\n",
       "\n",
       "    .dataframe thead th {\n",
       "        text-align: right;\n",
       "    }\n",
       "</style>\n",
       "<table border=\"1\" class=\"dataframe\">\n",
       "  <thead>\n",
       "    <tr style=\"text-align: right;\">\n",
       "      <th></th>\n",
       "      <th>News</th>\n",
       "      <th>News_Cleaned</th>\n",
       "    </tr>\n",
       "  </thead>\n",
       "  <tbody>\n",
       "    <tr>\n",
       "      <th>business_001.txt</th>\n",
       "      <td>Ad sales boost Time Warner profit\\n\\nQuarterly profits at US media giant TimeWarner jumped 76% t...</td>\n",
       "      <td>ad sale boost time warner profitquarterly profit us media giant timewarner jump 76 1.13bn â£600 ...</td>\n",
       "    </tr>\n",
       "    <tr>\n",
       "      <th>business_002.txt</th>\n",
       "      <td>Dollar gains on Greenspan speech\\n\\nThe dollar has hit its highest level against the euro in alm...</td>\n",
       "      <td>dollar gain greenspan speechthe dollar hit high level euro almost three month federal reserve he...</td>\n",
       "    </tr>\n",
       "    <tr>\n",
       "      <th>business_003.txt</th>\n",
       "      <td>Yukos unit buyer faces loan claim\\n\\nThe owners of embattled Russian oil giant Yukos are to ask ...</td>\n",
       "      <td>yukos unit buyer face loan claimthe owner embattle russian oil giant yukos ask buyer former prod...</td>\n",
       "    </tr>\n",
       "    <tr>\n",
       "      <th>business_004.txt</th>\n",
       "      <td>High fuel prices hit BA's profits\\n\\nBritish Airways has blamed high fuel prices for a 40% drop ...</td>\n",
       "      <td>high fuel price hit ba 's profitsbritish airways blame high fuel price 40 drop profit . report r...</td>\n",
       "    </tr>\n",
       "    <tr>\n",
       "      <th>business_005.txt</th>\n",
       "      <td>Pernod takeover talk lifts Domecq\\n\\nShares in UK drinks and food firm Allied Domecq have risen ...</td>\n",
       "      <td>pernod takeover talk lift domecqshares uk drink food firm allied domecq rise speculation could t...</td>\n",
       "    </tr>\n",
       "  </tbody>\n",
       "</table>\n",
       "</div>"
      ],
      "text/plain": [
       "                                                                                                                 News  \\\n",
       "business_001.txt  Ad sales boost Time Warner profit\\n\\nQuarterly profits at US media giant TimeWarner jumped 76% t...   \n",
       "business_002.txt  Dollar gains on Greenspan speech\\n\\nThe dollar has hit its highest level against the euro in alm...   \n",
       "business_003.txt  Yukos unit buyer faces loan claim\\n\\nThe owners of embattled Russian oil giant Yukos are to ask ...   \n",
       "business_004.txt  High fuel prices hit BA's profits\\n\\nBritish Airways has blamed high fuel prices for a 40% drop ...   \n",
       "business_005.txt  Pernod takeover talk lifts Domecq\\n\\nShares in UK drinks and food firm Allied Domecq have risen ...   \n",
       "\n",
       "                                                                                                         News_Cleaned  \n",
       "business_001.txt  ad sale boost time warner profitquarterly profit us media giant timewarner jump 76 1.13bn â£600 ...  \n",
       "business_002.txt  dollar gain greenspan speechthe dollar hit high level euro almost three month federal reserve he...  \n",
       "business_003.txt  yukos unit buyer face loan claimthe owner embattle russian oil giant yukos ask buyer former prod...  \n",
       "business_004.txt  high fuel price hit ba 's profitsbritish airways blame high fuel price 40 drop profit . report r...  \n",
       "business_005.txt  pernod takeover talk lift domecqshares uk drink food firm allied domecq rise speculation could t...  "
      ]
     },
     "execution_count": 75,
     "metadata": {},
     "output_type": "execute_result"
    }
   ],
   "source": [
    "train_raw_df.head()"
   ]
  },
  {
   "cell_type": "code",
   "execution_count": 76,
   "metadata": {},
   "outputs": [
    {
     "name": "stderr",
     "output_type": "stream",
     "text": [
      "C:\\Users\\sanat\\AppData\\Roaming\\Python\\Python37\\site-packages\\ipykernel\\ipkernel.py:287: DeprecationWarning: `should_run_async` will not call `transform_cell` automatically in the future. Please pass the result to `transformed_cell` argument and any exception that happen during thetransform in `preprocessing_exc_tuple` in IPython 7.17 and above.\n",
      "  and should_run_async(code)\n"
     ]
    }
   ],
   "source": [
    "# Gensim\n",
    "import gensim\n",
    "import gensim.corpora as corpora\n",
    "from gensim.utils import simple_preprocess\n",
    "from gensim.models import CoherenceModel"
   ]
  },
  {
   "cell_type": "code",
   "execution_count": 77,
   "metadata": {},
   "outputs": [
    {
     "name": "stderr",
     "output_type": "stream",
     "text": [
      "C:\\Users\\sanat\\AppData\\Roaming\\Python\\Python37\\site-packages\\ipykernel\\ipkernel.py:287: DeprecationWarning: `should_run_async` will not call `transform_cell` automatically in the future. Please pass the result to `transformed_cell` argument and any exception that happen during thetransform in `preprocessing_exc_tuple` in IPython 7.17 and above.\n",
      "  and should_run_async(code)\n"
     ]
    },
    {
     "name": "stdout",
     "output_type": "stream",
     "text": [
      "[['ad', 'sale', 'boost', 'time', 'warner', 'profitquarterly', 'profit', 'us', 'media', 'giant', 'timewarner', 'jump', 'bn', 'three', 'month', 'december', 'year', 'early', 'firm', 'one', 'big', 'investor', 'google', 'benefit', 'sale', 'high', 'speed', 'internet', 'connection', 'high', 'advert', 'sale', 'timewarner', 'say', 'fourth', 'quarter', 'sale', 'rise', 'bn', 'bn', 'profit', 'buoy', 'one', 'gain', 'offset', 'profit', 'dip', 'warner', 'bros', 'less', 'user', 'aol', 'time', 'warner', 'say', 'friday', 'search', 'engine', 'google', 'internet', 'business', 'aol', 'mix', 'fortune', 'lose', 'subscriber', 'fourth', 'quarter', 'profit', 'low', 'precede', 'three', 'quarter', 'however', 'company', 'say', 'aol', 'underlie', 'profit', 'exceptional', 'item', 'rise', 'back', 'strong', 'internet', 'advertising', 'revenue', 'hope', 'increase', 'subscriber', 'offer', 'online', 'service', 'free', 'timewarner', 'internet', 'customer', 'try', 'sign', 'aol', 'exist', 'customer', 'high', 'speed', 'broadband', 'timewarner', 'also', 'restate', 'result', 'follow', 'probe', 'us', 'securities', 'exchange', 'commission', 'sec', 'close', 'conclude', 'time', 'warner', 'fourth', 'quarter', 'profit', 'slightly', 'well', 'analyst', 'expectation', 'film', 'division', 'see', 'profit', 'slump', 'help', 'box', 'office', 'flop', 'alexander', 'catwoman', 'sharp', 'contrast', 'year', 'early', 'third', 'final', 'film', 'lord', 'rings', 'trilogy', 'boost', 'result', 'full', 'year', 'timewarner', 'post', 'profit', 'bn', 'performance', 'revenue', 'grow', 'bn', 'financial', 'performance', 'strong', 'meet', 'exceed', 'full', 'year', 'objective', 'greatly', 'enhance', 'flexibility', 'chairman', 'chief', 'executive', 'richard', 'parsons', 'say', 'timewarner', 'project', 'operate', 'earning', 'growth', 'around', 'also', 'expect', 'high', 'revenue', 'wide', 'profit', 'margin', 'timewarner', 'restate', 'account', 'part', 'effort', 'resolve', 'inquiry', 'aol', 'us', 'market', 'regulator', 'already', 'offer', 'pay', 'settle', 'charge', 'deal', 'review', 'sec', 'company', 'say', 'unable', 'estimate', 'amount', 'need', 'set', 'aside', 'legal', 'reserve', 'previously', 'set', 'intend', 'adjust', 'way', 'account', 'deal', 'german', 'music', 'publisher', 'bertelsmann', 'purchase', 'stake', 'aol', 'europe', 'report', 'advertising', 'revenue', 'book', 'sale', 'stake', 'aol', 'europe', 'loss', 'value', 'stake'], ['dollar', 'gain', 'greenspan', 'speechthe', 'dollar', 'hit', 'high', 'level', 'euro', 'almost', 'three', 'month', 'federal', 'reserve', 'head', 'say', 'us', 'trade', 'deficit', 'set', 'stabilise', 'alan', 'greenspan', 'highlight', 'us', 'government', 'willingness', 'curb', 'spend', 'rise', 'household', 'saving', 'factor', 'may', 'help', 'reduce', 'late', 'trading', 'new', 'york', 'dollar', 'reach', 'euro', 'thursday', 'market', 'concern', 'deficit', 'hit', 'greenback', 'recent', 'month', 'friday', 'federal', 'reserve', 'chairman', 'mr', 'greenspan', 'speech', 'london', 'ahead', 'meeting', 'finance', 'minister', 'send', 'dollar', 'higher', 'early', 'tumble', 'back', 'bad', 'expect', 'us', 'job', 'datum', 'think', 'chairman', 'take', 'much', 'sanguine', 'view', 'current', 'account', 'deficit', 'take', 'time', 'say', 'robert', 'sinche', 'head', 'currency', 'strategy', 'bank', 'america', 'new', 'york', 'take', 'long', 'term', 'view', 'lay', 'set', 'condition', 'current', 'account', 'deficit', 'improve', 'year', 'next', 'worrie', 'deficit', 'concern', 'china', 'however', 'remain', 'china', 'currency', 'remain', 'peg', 'dollar', 'us', 'currency', 'sharp', 'fall', 'recent', 'month', 'therefore', 'make', 'chinese', 'export', 'price', 'highly', 'competitive', 'call', 'shift', 'beijing', 'policy', 'fall', 'deaf', 'ear', 'despite', 'recent', 'comment', 'major', 'chinese', 'newspaper', 'time', 'ripe', 'loosening', 'peg', 'meeting', 'think', 'unlikely', 'produce', 'meaningful', 'movement', 'chinese', 'policy', 'meantime', 'us', 'federal', 'reserve', 'decision', 'february', 'boost', 'interest', 'rate', 'quarter', 'point', 'sixth', 'move', 'many', 'month', 'open', 'differential', 'european', 'rate', 'half', 'point', 'window', 'believe', 'could', 'enough', 'keep', 'us', 'asset', 'look', 'attractive', 'could', 'help', 'prop', 'dollar', 'recent', 'fall', 'partly', 'result', 'big', 'budget', 'deficit', 'well', 'us', 'yawn', 'current', 'account', 'gap', 'need', 'fund', 'buying', 'us', 'bond', 'asset', 'foreign', 'firm', 'government', 'white', 'house', 'announce', 'budget', 'monday', 'many', 'commentator', 'believe', 'deficit', 'remain', 'close', 'half', 'trillion', 'dollar'], ['yukos', 'unit', 'buyer', 'face', 'loan', 'claimthe', 'owner', 'embattle', 'russian', 'oil', 'giant', 'yukos', 'ask', 'buyer', 'former', 'production', 'unit', 'pay', 'back', 'loan', 'state', 'rosneft', 'buy', 'yugansk', 'unit', 'bn', 'sale', 'force', 'russia', 'part', 'settle', 'bn', 'tax', 'claim', 'yukos', 'yukos', 'owner', 'menatep', 'group', 'say', 'ask', 'rosneft', 'repay', 'loan', 'yugansk', 'secure', 'asset', 'rosneft', 'already', 'face', 'similar', 'repayment', 'demand', 'foreign', 'bank', 'legal', 'expert', 'say', 'rosneft', 'purchase', 'yugansk', 'would', 'include', 'obligation', 'pledged', 'asset', 'rosneft', 'pay', 'real', 'money', 'creditor', 'avoid', 'seizure', 'yugansk', 'asset', 'say', 'moscow', 'base', 'us', 'lawyer', 'jamie', 'firestone', 'connect', 'case', 'menatep', 'group', 'managing', 'director', 'tim', 'osborne', 'tell', 'reuters', 'news', 'agency', 'default', 'fight', 'rule', 'law', 'exist', 'international', 'arbitration', 'clause', 'credit', 'rosneft', 'official', 'unavailable', 'comment', 'company', 'say', 'intend', 'take', 'action', 'menatep', 'recover', 'tax', 'claim', 'debt', 'owe', 'yugansk', 'yukos', 'file', 'bankruptcy', 'protection', 'us', 'court', 'attempt', 'prevent', 'force', 'sale', 'main', 'production', 'arm', 'sale', 'go', 'ahead', 'december', 'yugansk', 'sell', 'little', 'know', 'shell', 'company', 'turn', 'buy', 'rosneft', 'yukos', 'claim', 'downfall', 'punishment', 'political', 'ambition', 'founder', 'mikhail', 'khodorkovsky', 'vow', 'sue', 'participant', 'sale'], ['high', 'fuel', 'price', 'hit', 'ba', 'profitsbritish', 'airways', 'blame', 'high', 'fuel', 'price', 'drop', 'profit', 'report', 'result', 'three', 'month', 'december', 'airline', 'make', 'pre', 'tax', 'profit', 'compare', 'year', 'early', 'rod', 'eddington', 'ba', 'chief', 'executive', 'say', 'result', 'respectable', 'third', 'quarter', 'fuel', 'cost', 'rise', 'ba', 'profit', 'still', 'well', 'market', 'expectation', 'expect', 'rise', 'full', 'year', 'revenue', 'help', 'offset', 'increase', 'price', 'aviation', 'fuel', 'ba', 'last', 'year', 'introduce', 'fuel', 'surcharge', 'passenger', 'october', 'increase', 'one', 'way', 'long', 'haul', 'flight', 'short', 'haul', 'surcharge', 'raise', 'leg', 'yet', 'aviation', 'analyst', 'mike', 'powell', 'dresdner', 'kleinwort', 'wasserstein', 'say', 'ba', 'estimate', 'annual', 'surcharge', 'revenue', 'still', 'way', 'short', 'additional', 'fuel', 'cost', 'predict', 'extra', 'turnover', 'quarter', 'bn', 'benefit', 'rise', 'cargo', 'revenue', 'look', 'ahead', 'full', 'year', 'result', 'march', 'ba', 'warn', 'yield', 'average', 'revenue', 'per', 'passenger', 'expect', 'decline', 'continue', 'low', 'price', 'face', 'competition', 'low', 'cost', 'carrier', 'however', 'say', 'sale', 'would', 'well', 'previously', 'forecast', 'year', 'march', 'total', 'revenue', 'outlook', 'slightly', 'well', 'previous', 'guidance', 'improvement', 'anticipate', 'ba', 'chairman', 'martin', 'broughton', 'say', 'ba', 'previously', 'forecast', 'rise', 'full', 'year', 'revenue', 'also', 'report', 'friday', 'passenger', 'number', 'rise', 'january', 'aviation', 'analyst', 'nick', 'van', 'den', 'brul', 'bnp', 'paribas', 'describe', 'ba', 'late', 'quarterly', 'result', 'pretty', 'modest', 'quite', 'good', 'revenue', 'side', 'show', 'impact', 'fuel', 'surcharge', 'positive', 'cargo', 'development', 'however', 'operate', 'margin', 'cost', 'impact', 'fuel', 'strong', 'say', 'since', 'september', 'attack', 'united', 'states', 'ba', 'cut', 'job', 'part', 'major', 'cost', 'cut', 'drive', 'focus', 'remain', 'reduce', 'controllable', 'cost', 'debt', 'whilst', 'continue', 'invest', 'product', 'mr', 'eddington', 'say', 'example', 'take', 'delivery', 'six', 'airbus', 'aircraft', 'next', 'month', 'start', 'improvement', 'club', 'world', 'flat', 'bed', 'ba', 'share', 'close', 'four', 'penny', 'penny'], ['pernod', 'takeover', 'talk', 'lift', 'domecqshares', 'uk', 'drink', 'food', 'firm', 'allied', 'domecq', 'rise', 'speculation', 'could', 'target', 'takeover', 'france', 'pernod', 'ricard', 'report', 'wall', 'street', 'journal', 'financial', 'times', 'suggest', 'french', 'spirit', 'firm', 'consider', 'bid', 'yet', 'contact', 'target', 'allied', 'domecq', 'share', 'london', 'rise', 'gmt', 'pernod', 'share', 'paris', 'slip', 'pernod', 'say', 'seek', 'acquisition', 'refuse', 'comment', 'specific', 'pernod', 'last', 'major', 'purchase', 'third', 'us', 'giant', 'seagram', 'move', 'propel', 'global', 'top', 'three', 'drink', 'firm', 'two', 'third', 'seagram', 'buy', 'market', 'leader', 'diageo', 'term', 'market', 'value', 'pernod', 'bn', 'euro', 'bn', 'small', 'allied', 'domecq', 'capitalisation', 'bn', 'bn', 'bn', 'euro', 'last', 'year', 'pernod', 'try', 'buy', 'glenmorangie', 'one', 'scotland', 'premier', 'whisky', 'firm', 'lose', 'luxury', 'good', 'firm', 'lvmh', 'pernod', 'home', 'brand', 'include', 'chivas', 'regal', 'scotch', 'whisky', 'havana', 'club', 'rum', 'jacob', 'creek', 'wine', 'allied', 'domecq', 'big', 'name', 'include', 'malibu', 'rum', 'courvoisi', 'brandy', 'stolichnaya', 'vodka', 'ballantine', 'whisky', 'well', 'snack', 'food', 'chain', 'dunkin', 'donuts', 'baskin', 'robbins', 'ice', 'cream', 'wsj', 'say', 'two', 'ripe', 'consolidation', 'deal', 'problematic', 'part', 'portfolio', 'pernod', 'reduce', 'debt', 'take', 'fund', 'seagram', 'purchase', 'bn', 'euro', 'allied', 'improve', 'performance', 'fast', 'food', 'chain']]\n"
     ]
    }
   ],
   "source": [
    "\n",
    "def sent_to_words(sentences):\n",
    "    for sentence in sentences:\n",
    "        yield(gensim.utils.simple_preprocess(str(sentence), deacc=True))  # deacc=True removes punctuations\n",
    "\n",
    "data_words = list(sent_to_words(train_raw_df['News_Cleaned']))\n",
    "\n",
    "print(data_words[:5])"
   ]
  },
  {
   "cell_type": "code",
   "execution_count": 78,
   "metadata": {},
   "outputs": [
    {
     "name": "stdout",
     "output_type": "stream",
     "text": [
      "[['ad', 'sale', 'boost', 'time', 'warner', 'profitquarterly', 'profit', 'us', 'media', 'giant', 'timewarner', 'jump', 'bn', 'three', 'month', 'december', 'year', 'early', 'firm', 'one', 'big', 'investor', 'google', 'benefit', 'sale', 'high', 'speed', 'internet', 'connection', 'high', 'advert', 'sale', 'timewarner', 'say', 'fourth', 'quarter', 'sale', 'rise', 'bn', 'bn', 'profit', 'buoy', 'one', 'gain', 'offset', 'profit', 'dip', 'warner', 'bros', 'less', 'user', 'aol', 'time', 'warner', 'say', 'friday', 'search', 'engine', 'google', 'internet', 'business', 'aol', 'mix', 'fortune', 'lose', 'subscriber', 'fourth', 'quarter', 'profit', 'low', 'precede', 'three', 'quarter', 'however', 'company', 'say', 'aol', 'underlie', 'profit', 'exceptional', 'item', 'rise', 'back', 'strong', 'internet', 'advertising', 'revenue', 'hope', 'increase', 'subscriber', 'offer', 'online', 'service', 'free', 'timewarner', 'internet', 'customer', 'try', 'sign', 'aol', 'exist', 'customer', 'high', 'speed', 'broadband', 'timewarner', 'also', 'restate', 'result', 'follow', 'probe', 'us', 'securities', 'exchange', 'commission', 'sec', 'close', 'conclude', 'time', 'warner', 'fourth', 'quarter', 'profit', 'slightly', 'well', 'analyst', 'expectation', 'film', 'division', 'see', 'profit', 'slump', 'help', 'box', 'office', 'flop', 'alexander', 'catwoman', 'sharp', 'contrast', 'year', 'early', 'third', 'final', 'film', 'lord', 'rings', 'trilogy', 'boost', 'result', 'full', 'year', 'timewarner', 'post', 'profit', 'bn', 'performance', 'revenue', 'grow', 'bn', 'financial', 'performance', 'strong', 'meet', 'exceed', 'full', 'year', 'objective', 'greatly', 'enhance', 'flexibility', 'chairman', 'chief', 'executive', 'richard', 'parsons', 'say', 'timewarner', 'project', 'operate', 'earning', 'growth', 'around', 'also', 'expect', 'high', 'revenue', 'wide', 'profit', 'margin', 'timewarner', 'restate', 'account', 'part', 'effort', 'resolve', 'inquiry', 'aol', 'us', 'market', 'regulator', 'already', 'offer', 'pay', 'settle', 'charge', 'deal', 'review', 'sec', 'company', 'say', 'unable', 'estimate', 'amount', 'need', 'set', 'aside', 'legal', 'reserve', 'previously', 'set', 'intend', 'adjust', 'way', 'account', 'deal', 'german', 'music', 'publisher', 'bertelsmann', 'purchase', 'stake', 'aol', 'europe', 'report', 'advertising', 'revenue', 'book', 'sale', 'stake', 'aol', 'europe', 'loss', 'value', 'stake'], ['dollar', 'gain', 'greenspan', 'speechthe', 'dollar', 'hit', 'high', 'level', 'euro', 'almost', 'three', 'month', 'federal', 'reserve', 'head', 'say', 'us', 'trade', 'deficit', 'set', 'stabilise', 'alan', 'greenspan', 'highlight', 'us', 'government', 'willingness', 'curb', 'spend', 'rise', 'household', 'saving', 'factor', 'may', 'help', 'reduce', 'late', 'trading', 'new', 'york', 'dollar', 'reach', 'euro', 'thursday', 'market', 'concern', 'deficit', 'hit', 'greenback', 'recent', 'month', 'friday', 'federal', 'reserve', 'chairman', 'mr', 'greenspan', 'speech', 'london', 'ahead', 'meeting', 'finance', 'minister', 'send', 'dollar', 'higher', 'early', 'tumble', 'back', 'bad', 'expect', 'us', 'job', 'datum', 'think', 'chairman', 'take', 'much', 'sanguine', 'view', 'current', 'account', 'deficit', 'take', 'time', 'say', 'robert', 'sinche', 'head', 'currency', 'strategy', 'bank', 'america', 'new', 'york', 'take', 'long', 'term', 'view', 'lay', 'set', 'condition', 'current', 'account', 'deficit', 'improve', 'year', 'next', 'worrie', 'deficit', 'concern', 'china', 'however', 'remain', 'china', 'currency', 'remain', 'peg', 'dollar', 'us', 'currency', 'sharp', 'fall', 'recent', 'month', 'therefore', 'make', 'chinese', 'export', 'price', 'highly', 'competitive', 'call', 'shift', 'beijing', 'policy', 'fall', 'deaf', 'ear', 'despite', 'recent', 'comment', 'major', 'chinese', 'newspaper', 'time', 'ripe', 'loosening', 'peg', 'meeting', 'think', 'unlikely', 'produce', 'meaningful', 'movement', 'chinese', 'policy', 'meantime', 'us', 'federal', 'reserve', 'decision', 'february', 'boost', 'interest', 'rate', 'quarter', 'point', 'sixth', 'move', 'many', 'month', 'open', 'differential', 'european', 'rate', 'half', 'point', 'window', 'believe', 'could', 'enough', 'keep', 'us', 'asset', 'look', 'attractive', 'could', 'help', 'prop', 'dollar', 'recent', 'fall', 'partly', 'result', 'big', 'budget', 'deficit', 'well', 'us', 'yawn', 'current', 'account', 'gap', 'need', 'fund', 'buying', 'us', 'bond', 'asset', 'foreign', 'firm', 'government', 'white', 'house', 'announce', 'budget', 'monday', 'many', 'commentator', 'believe', 'deficit', 'remain', 'close', 'half', 'trillion', 'dollar'], ['yukos', 'unit', 'buyer', 'face', 'loan', 'claimthe', 'owner', 'embattle', 'russian', 'oil', 'giant', 'yukos', 'ask', 'buyer', 'former', 'production', 'unit', 'pay', 'back', 'loan', 'state', 'rosneft', 'buy', 'yugansk', 'unit', 'bn', 'sale', 'force', 'russia', 'part', 'settle', 'bn', 'tax', 'claim', 'yukos', 'yukos', 'owner', 'menatep', 'group', 'say', 'ask', 'rosneft', 'repay', 'loan', 'yugansk', 'secure', 'asset', 'rosneft', 'already', 'face', 'similar', 'repayment', 'demand', 'foreign', 'bank', 'legal', 'expert', 'say', 'rosneft', 'purchase', 'yugansk', 'would', 'include', 'obligation', 'pledged', 'asset', 'rosneft', 'pay', 'real', 'money', 'creditor', 'avoid', 'seizure', 'yugansk', 'asset', 'say', 'moscow', 'base', 'us', 'lawyer', 'jamie', 'firestone', 'connect', 'case', 'menatep', 'group', 'managing', 'director', 'tim', 'osborne', 'tell', 'reuters', 'news', 'agency', 'default', 'fight', 'rule', 'law', 'exist', 'international', 'arbitration', 'clause', 'credit', 'rosneft', 'official', 'unavailable', 'comment', 'company', 'say', 'intend', 'take', 'action', 'menatep', 'recover', 'tax', 'claim', 'debt', 'owe', 'yugansk', 'yukos', 'file', 'bankruptcy', 'protection', 'us', 'court', 'attempt', 'prevent', 'force', 'sale', 'main', 'production', 'arm', 'sale', 'go', 'ahead', 'december', 'yugansk', 'sell', 'little', 'know', 'shell', 'company', 'turn', 'buy', 'rosneft', 'yukos', 'claim', 'downfall', 'punishment', 'political', 'ambition', 'founder', 'mikhail', 'khodorkovsky', 'vow', 'sue', 'participant', 'sale'], ['high', 'fuel', 'price', 'hit', 'ba', 'profitsbritish', 'airways', 'blame', 'high', 'fuel', 'price', 'drop', 'profit', 'report', 'result', 'three', 'month', 'december', 'airline', 'make', 'pre', 'tax', 'profit', 'compare', 'year', 'early', 'rod', 'eddington', 'ba', 'chief', 'executive', 'say', 'result', 'respectable', 'third', 'quarter', 'fuel', 'cost', 'rise', 'ba', 'profit', 'still', 'well', 'market', 'expectation', 'expect', 'rise', 'full', 'year', 'revenue', 'help', 'offset', 'increase', 'price', 'aviation', 'fuel', 'ba', 'last', 'year', 'introduce', 'fuel', 'surcharge', 'passenger', 'october', 'increase', 'one', 'way', 'long', 'haul', 'flight', 'short', 'haul', 'surcharge', 'raise', 'leg', 'yet', 'aviation', 'analyst', 'mike', 'powell', 'dresdner', 'kleinwort', 'wasserstein', 'say', 'ba', 'estimate', 'annual', 'surcharge', 'revenue', 'still', 'way', 'short', 'additional', 'fuel', 'cost', 'predict', 'extra', 'turnover', 'quarter', 'bn', 'benefit', 'rise', 'cargo', 'revenue', 'look', 'ahead', 'full', 'year', 'result', 'march', 'ba', 'warn', 'yield', 'average', 'revenue', 'per', 'passenger', 'expect', 'decline', 'continue', 'low', 'price', 'face', 'competition', 'low', 'cost', 'carrier', 'however', 'say', 'sale', 'would', 'well', 'previously', 'forecast', 'year', 'march', 'total', 'revenue', 'outlook', 'slightly', 'well', 'previous', 'guidance', 'improvement', 'anticipate', 'ba', 'chairman', 'martin', 'broughton', 'say', 'ba', 'previously', 'forecast', 'rise', 'full', 'year', 'revenue', 'also', 'report', 'friday', 'passenger', 'number', 'rise', 'january', 'aviation', 'analyst', 'nick', 'van', 'den', 'brul', 'bnp', 'paribas', 'describe', 'ba', 'late', 'quarterly', 'result', 'pretty', 'modest', 'quite', 'good', 'revenue', 'side', 'show', 'impact', 'fuel', 'surcharge', 'positive', 'cargo', 'development', 'however', 'operate', 'margin', 'cost', 'impact', 'fuel', 'strong', 'say', 'since', 'september', 'attack', 'united', 'states', 'ba', 'cut', 'job', 'part', 'major', 'cost', 'cut', 'drive', 'focus', 'remain', 'reduce', 'controllable', 'cost', 'debt', 'whilst', 'continue', 'invest', 'product', 'mr', 'eddington', 'say', 'example', 'take', 'delivery', 'six', 'airbus', 'aircraft', 'next', 'month', 'start', 'improvement', 'club', 'world', 'flat', 'bed', 'ba', 'share', 'close', 'four', 'penny', 'penny'], ['pernod', 'takeover', 'talk', 'lift', 'domecqshares', 'uk', 'drink', 'food', 'firm', 'allied', 'domecq', 'rise', 'speculation', 'could', 'target', 'takeover', 'france', 'pernod', 'ricard', 'report', 'wall', 'street', 'journal', 'financial', 'times', 'suggest', 'french', 'spirit', 'firm', 'consider', 'bid', 'yet', 'contact', 'target', 'allied', 'domecq', 'share', 'london', 'rise', 'gmt', 'pernod', 'share', 'paris', 'slip', 'pernod', 'say', 'seek', 'acquisition', 'refuse', 'comment', 'specific', 'pernod', 'last', 'major', 'purchase', 'third', 'us', 'giant', 'seagram', 'move', 'propel', 'global', 'top', 'three', 'drink', 'firm', 'two', 'third', 'seagram', 'buy', 'market', 'leader', 'diageo', 'term', 'market', 'value', 'pernod', 'bn', 'euro', 'bn', 'small', 'allied', 'domecq', 'capitalisation', 'bn', 'bn', 'bn', 'euro', 'last', 'year', 'pernod', 'try', 'buy', 'glenmorangie', 'one', 'scotland', 'premier', 'whisky', 'firm', 'lose', 'luxury', 'good', 'firm', 'lvmh', 'pernod', 'home', 'brand', 'include', 'chivas', 'regal', 'scotch', 'whisky', 'havana', 'club', 'rum', 'jacob', 'creek', 'wine', 'allied', 'domecq', 'big', 'name', 'include', 'malibu', 'rum', 'courvoisi', 'brandy', 'stolichnaya', 'vodka', 'ballantine', 'whisky', 'well', 'snack', 'food', 'chain', 'dunkin', 'donuts', 'baskin', 'robbins', 'ice', 'cream', 'wsj', 'say', 'two', 'ripe', 'consolidation', 'deal', 'problematic', 'part', 'portfolio', 'pernod', 'reduce', 'debt', 'take', 'fund', 'seagram', 'purchase', 'bn', 'euro', 'allied', 'improve', 'performance', 'fast', 'food', 'chain'], ['japan', 'narrowly', 'escape', 'recessionjapan', 'economy', 'teeter', 'brink', 'technical', 'recession', 'three', 'month', 'september', 'figure', 'show', 'revise', 'figure', 'indicate', 'growth', 'similar', 'sized', 'contraction', 'previous', 'quarter', 'annual', 'basis', 'data', 'suggest', 'annual', 'growth', 'suggest', 'much', 'hesitant', 'recovery', 'previously', 'think', 'common', 'technical', 'definition', 'recession', 'two', 'successive', 'quarter', 'negative', 'growth', 'government', 'keen', 'play', 'worrying', 'implication', 'datum', 'maintain', 'view', 'japan', 'economy', 'remain', 'minor', 'adjustment', 'phase', 'upward', 'climb', 'monitor', 'development', 'carefully', 'say', 'economy', 'minister', 'heizo', 'takenaka', 'face', 'strengthen', 'yen', 'make', 'export', 'less', 'competitive', 'indication', 'weaken', 'economic', 'condition', 'ahead', 'observer', 'less', 'sanguine', 'paint', 'picture', 'recovery', 'much', 'patchy', 'previously', 'think', 'say', 'paul', 'sheard', 'economist', 'lehman', 'brothers', 'tokyo', 'improvement', 'job', 'market', 'apparently', 'yet', 'feed', 'domestic', 'demand', 'private', 'consumption', 'third', 'quarter'], ['job', 'growth', 'still', 'slow', 'usthe', 'us', 'create', 'job', 'expect', 'january', 'fall', 'jobseeker', 'push', 'unemployment', 'rate', 'low', 'level', 'three', 'year', 'accord', 'labor', 'department', 'figure', 'us', 'firm', 'add', 'job', 'january', 'gain', 'non', 'farm', 'payroll', 'market', 'expectation', 'new', 'job', 'nevertheless', 'enough', 'push', 'unemployment', 'rate', 'low', 'level', 'since', 'september', 'job', 'gain', 'mean', 'president', 'bush', 'celebrate', 'albeit', 'fine', 'margin', 'net', 'growth', 'job', 'us', 'economy', 'first', 'term', 'office', 'preside', 'net', 'fall', 'job', 'last', 'november', 'presidential', 'election', 'first', 'president', 'since', 'herbert', 'hoover', 'result', 'job', 'creation', 'become', 'key', 'issue', 'last', 'year', 'election', 'however', 'add', 'december', 'january', 'figure', 'administration', 'first', 'term', 'job', 'record', 'end', 'positive', 'territory', 'labor', 'department', 'also', 'say', 'revise', 'job', 'gain', 'december', 'analysts', 'say', 'growth', 'new', 'job', 'strong', 'could', 'expect', 'give', 'favourable', 'economic', 'condition', 'suggest', 'employment', 'continue', 'expand', 'moderate', 'pace', 'say', 'rick', 'egelton', 'deputy', 'chief', 'economist', 'bmo', 'financial', 'group', 'get', 'boost', 'employment', 'would', 'get', 'give', 'low', 'value', 'dollar', 'still', 'relatively', 'low', 'interest', 'rate', 'environment', 'economy', 'produce', 'moderate', 'satisfying', 'amount', 'job', 'growth', 'say', 'ken', 'mayland', 'president', 'clearview', 'economics', 'mean', 'limited', 'number', 'new', 'opportunity', 'worker'], ['india', 'call', 'fair', 'trade', 'rulesindia', 'attend', 'meeting', 'seven', 'lead', 'industrialise', 'nation', 'friday', 'unlikely', 'cow', 'newcomer', 'status', 'london', 'thursday', 'ahead', 'meeting', 'india', 'finance', 'minister', 'lash', 'restrictive', 'trade', 'policy', 'nation', 'object', 'subsidy', 'agriculture', 'make', 'hard', 'develop', 'nation', 'like', 'india', 'compete', 'also', 'call', 'reform', 'united', 'nations', 'world', 'bank', 'imf', 'palaniappan', 'chidambaram', 'india', 'finance', 'minister', 'argue', 'organisation', 'need', 'take', 'account', 'change', 'world', 'order', 'give', 'india', 'china', 'integration', 'global', 'economy', 'say', 'issue', 'globalisation', 'term', 'engagement', 'globalisation', 'mr', 'chidambaram', 'attend', 'meeting', 'part', 'group', 'nation', 'account', 'two', 'third', 'world', 'population', 'conference', 'develop', 'enterprise', 'host', 'uk', 'finance', 'minister', 'gordon', 'brown', 'friday', 'say', 'favour', 'float', 'exchange', 'rate', 'help', 'country', 'cope', 'economic', 'shock', 'flexible', 'exchange', 'rate', 'one', 'channel', 'absorb', 'positive', 'negative', 'shock', 'tell', 'conference', 'india', 'along', 'china', 'brazil', 'south', 'africa', 'russia', 'invite', 'take', 'part', 'meeting', 'take', 'place', 'london', 'friday', 'saturday', 'china', 'expect', 'face', 'renew', 'pressure', 'abandon', 'fix', 'exchange', 'rate', 'nation', 'particular', 'us', 'blame', 'surge', 'cheap', 'chinese', 'export', 'country', 'try', 'use', 'fix', 'exchange', 'rate', 'wish', 'make', 'judgement', 'mr', 'chidambaram', 'say', 'separately', 'imf', 'warn', 'thursday', 'india', 'budget', 'deficit', 'large', 'would', 'hamper', 'country', 'economic', 'growth', 'forecast', 'around', 'year', 'march', 'year', 'march', 'indian', 'economy', 'grow'], ['ethiopia', 'crop', 'production', 'ethiopia', 'produce', 'million', 'tonne', 'crop', 'high', 'average', 'past', 'five', 'year', 'report', 'say', 'crop', 'production', 'total', 'million', 'tonne', 'joint', 'report', 'food', 'agriculture', 'organisation', 'world', 'food', 'programme', 'say', 'good', 'rain', 'increase', 'use', 'fertilizer', 'improve', 'seed', 'contribute', 'rise', 'production', 'nevertheless', 'million', 'ethiopians', 'still', 'need', 'emergency', 'assistance', 'report', 'calculate', 'emergency', 'food', 'requirement', 'tonne', 'top', 'tonne', 'fortify', 'blended', 'food', 'vegetable', 'oil', 'target', 'supplementary', 'food', 'distribution', 'survival', 'programme', 'child', 'five', 'pregnant', 'lactate', 'woman', 'need', 'eastern', 'southern', 'ethiopia', 'prolong', 'drought', 'kill', 'crop', 'drain', 'well', 'last', 'year', 'total', 'tonne', 'food', 'assistance', 'need', 'help', 'seven', 'million', 'ethiopians', 'food', 'agriculture', 'organisation', 'fao', 'recommend', 'food', 'assistance', 'buy', 'locally', 'local', 'purchase', 'cereal', 'food', 'assistance', 'programme', 'recommend', 'far', 'possible', 'assist', 'domestic', 'market', 'farmer', 'say', 'henri', 'josserand', 'chief', 'fao', 'global', 'information', 'early', 'warning', 'system', 'agriculture', 'main', 'economic', 'activity', 'ethiopia', 'represent', 'gross', 'domestic', 'product', 'ethiopian', 'depend', 'directly', 'indirectly', 'agriculture'], ['court', 'reject', 'bn', 'tobacco', 'casea', 'us', 'government', 'claim', 'accuse', 'country', 'big', 'tobacco', 'company', 'cover', 'effect', 'smoking', 'throw', 'appeal', 'court', 'demand', 'bn', 'bn', 'file', 'clinton', 'administration', 'reject', 'decision', 'court', 'washington', 'find', 'case', 'could', 'bring', 'federal', 'anti', 'racketeering', 'law', 'among', 'accuse', 'altria', 'group', 'rj', 'reynolds', 'tobacco', 'lorillard', 'tobacco', 'liggett', 'group', 'brown', 'williamson', 'case', 'government', 'claim', 'tobacco', 'firm', 'manipulate', 'nicotine', 'level', 'increase', 'addiction', 'target', 'teenager', 'multi', 'billion', 'dollar', 'advertising', 'campaign', 'lie', 'danger', 'smoking', 'ignore', 'research', 'contrary', 'prosecutor', 'want', 'cigarette', 'firm', 'surrender', 'bn', 'profit', 'accumulate', 'past', 'year', 'impose', 'tough', 'rule', 'market', 'product', 'court', 'appeals', 'district', 'columbia', 'rule', 'us', 'government', 'could', 'sue', 'firm', 'legislation', 'draw', 'counteract', 'mafia', 'infiltration', 'business', 'tobacco', 'company', 'deny', 'illegally', 'conspire', 'promote', 'smoking', 'defraud', 'public', 'also', 'say', 'already', 'meet', 'many', 'government', 'demand', 'landmark', 'bn', 'settlement', 'reach', 'state', 'share', 'tobacco', 'company', 'close', 'high', 'ruling', 'altria', 'rise', 'reynolds', 'show', 'gain'], ['ask', 'jeeves', 'tip', 'online', 'ad', 'revivalask', 'jeeves', 'become', 'third', 'leading', 'online', 'search', 'firm', 'week', 'thank', 'revival', 'internet', 'advertising', 'improve', 'fortune', 'firm', 'revenue', 'nearly', 'triple', 'fourth', 'quarter', 'exceed', 'ask', 'jeeves', 'among', 'well', 'know', 'name', 'web', 'relatively', 'modest', 'player', 'profit', 'quarter', 'dwarf', 'announce', 'rival', 'google', 'early', 'week', 'quarter', 'yahoo', 'earn', 'tip', 'resurgence', 'online', 'advertising', 'trend', 'take', 'hold', 'relatively', 'quickly', 'late', 'last', 'year', 'marketing', 'company', 'doubleclick', 'one', 'lead', 'provider', 'online', 'advertising', 'warn', 'business', 'would', 'put', 'sale', 'thursday', 'announce', 'sharp', 'turnaround', 'bring', 'unexpected', 'increase', 'profit', 'neither', 'ask', 'jeeves', 'doubleclick', 'thrill', 'investor', 'profit', 'news', 'however', 'case', 'share', 'fall', 'analyst', 'attribute', 'fall', 'excessive', 'expectation', 'quarter', 'fuel', 'dramatic', 'outperformance', 'google', 'tuesday'], ['indonesian', 'face', 'fuel', 'price', 'riseindonesia', 'government', 'confirm', 'consider', 'raise', 'fuel', 'price', 'much', 'millions', 'indonesians', 'use', 'kerosene', 'basic', 'cooking', 'price', 'heavily', 'subsidise', 'year', 'president', 'susilo', 'bambang', 'yudhoyono', 'government', 'say', 'want', 'curb', 'fuel', 'subsidy', 'direct', 'money', 'aid', 'programme', 'poor', 'critic', 'argue', 'cut', 'subsidy', 'hurt', 'poor', 'family', 'government', 'say', 'want', 'help', 'million', 'people', 'leave', 'homeless', 'indonesia', 'aceh', 'region', 'follow', 'earthquake', 'tsunami', 'disaster', 'late', 'december', 'indonesia', 'pay', 'subsidy', 'importer', 'order', 'stabilise', 'domestic', 'fuel', 'price', 'high', 'oil', 'price', 'force', 'government', 'spend', 'hold', 'price', 'spend', 'trillion', 'rupiah', 'bn', 'bn', 'fuel', 'subsidy', 'sum', 'far', 'excess', 'original', 'projection', 'trillion', 'rupiah', 'since', 'president', 'yudhoyono', 'government', 'come', 'power', 'october', 'indicate', 'intention', 'raise', 'domestic', 'fuel', 'price', 'cut', 'subsidy', 'january', 'march', 'quarter', 'year', 'good', 'time', 'increase', 'fuel', 'price', 'say', 'sri', 'mulyani', 'indrawati', 'state', 'minister', 'national', 'development', 'planning', 'still', 'consider', 'hike', 'suitable', 'moment', 'soon', 'well', 'state', 'budget', 'bbc', 'correspondent', 'jakarta', 'rachel', 'harvey', 'tell', 'world', 'business', 'report', 'likely', 'strong', 'public', 'reaction', 'price', 'rise', 'big', 'question', 'whether', 'go', 'one', 'big', 'short', 'sharp', 'shock', 'raise', 'price', 'whether', 'try', 'stagger', 'say', 'indonesia', 'previous', 'government', 'lead', 'president', 'megawati', 'sukarnoputri', 'also', 'attempt', 'cut', 'subsidy', 'force', 'back', 'face', 'public', 'protest'], ['peugeot', 'deal', 'boost', 'japanese', 'car', 'maker', 'mitsubishi', 'motors', 'strike', 'deal', 'supply', 'french', 'car', 'maker', 'peugeot', 'sport', 'utility', 'vehicle', 'suv', 'the', 'two', 'firm', 'sign', 'memorandum', 'understanding', 'say', 'expect', 'seal', 'final', 'agreement', 'spring', 'alliance', 'come', 'badly', 'need', 'boost', 'loss', 'make', 'mitsubishi', 'several', 'profit', 'warning', 'poor', 'sale', 'suv', 'build', 'japan', 'use', 'peugeot', 'diesel', 'engine', 'sell', 'mainly', 'european', 'market', 'fall', 'sale', 'leave', 'mitsubishi', 'motors', 'underused', 'capacity', 'production', 'deal', 'peugeot', 'give', 'chance', 'utilise', 'january', 'mitsubishi', 'motors', 'issue', 'third', 'profit', 'warn', 'nine', 'month', 'cut', 'sale', 'forecast', 'year', 'march', 'sale', 'slide', 'past', 'year', 'catalyse', 'revelation', 'company', 'systematically', 'hide', 'record', 'fault', 'secretly', 'repair', 'vehicle', 'result', 'japanese', 'car', 'maker', 'seek', 'series', 'financial', 'bailout', 'last', 'month', 'say', 'look', 'bn', 'yen', 'bn', 'bn', 'fresh', 'financial', 'backing', 'half', 'company', 'mitsubishi', 'group', 'us', 'german', 'carmaker', 'daimlerchrylser', 'shareholder', 'mitsubishi', 'motors', 'decide', 'april', 'pump', 'money', 'deal', 'peugeot', 'celebrate', 'mitsubishi', 'newly', 'appoint', 'chief', 'executive', 'takashi', 'nishioka', 'take', 'three', 'top', 'boss', 'stand', 'last', 'month', 'shoulder', 'responsibility', 'firm', 'trouble', 'mitsubishi', 'motors', 'forecast', 'net', 'loss', 'bn', 'yen', 'current', 'financial', 'year', 'march', 'last', 'month', 'sign', 'production', 'agreement', 'japanese', 'rival', 'nissan', 'motor', 'supply', 'small', 'car', 'sale', 'japan', 'make', 'car', 'nissan', 'since'], ['telegraph', 'newspaper', 'axe', 'jobsthe', 'daily', 'sunday', 'telegraph', 'newspaper', 'axe', 'journalist', 'job', 'editorial', 'staff', 'telegraph', 'group', 'say', 'cut', 'need', 'fund', 'investment', 'new', 'printing', 'facility', 'journalist', 'firm', 'meet', 'friday', 'afternoon', 'discuss', 'react', 'surprise', 'announcement', 'cut', 'come', 'background', 'fierce', 'competition', 'reader', 'sluggish', 'advertising', 'revenue', 'amid', 'competition', 'online', 'advertising', 'national', 'union', 'journalists', 'call', 'management', 'recall', 'notice', 'redundancy', 'midday', 'monday', 'face', 'strike', 'ballot', 'pearson', 'financial', 'times', 'say', 'last', 'week', 'offer', 'voluntary', 'redundancy', 'reporter', 'national', 'union', 'journalists', 'say', 'stand', 'strongly', 'behind', 'journalist', 'rule', 'strike', 'manager', 'tear', 'agree', 'procedure', 'kick', 'staff', 'tooth', 'sack', 'people', 'pay', 'print', 'facility', 'say', 'jeremy', 'dear', 'nuj', 'general', 'secretary', 'nuj', 'official', 'barry', 'fitzpatrick', 'say', 'company', 'ignore', 'day', 'consultation', 'period', 'require', 'company', 'plan', 'redundancy', 'show', 'complete', 'disregard', 'consultative', 'right', 'member', 'say', 'mr', 'fitzpatrick', 'add', 'company', 'plan', 'observe', 'consultation', 'procedure', 'two', 'telegraph', 'title', 'currently', 'employ', 'journalist', 'broadsheet', 'newspaper', 'especially', 'move', 'tabloid', 'format', 'suffer', 'circulation', 'decline', 'hit', 'revenue', 'telegraph', 'announce', 'plan', 'go', 'tabloid', 'although', 'independent', 'times', 'see', 'circulation', 'rise', 'since', 'shrink', 'size', 'guardian', 'hedge', 'bet', 'plan', 'large', 'tabloid', 'format', 'like', 'popular', 'continental', 'europe', 'telegraph', 'group', 'buy', 'barclay', 'twin', 'frederick', 'david', 'last', 'year', 'previously', 'lord', 'conrad', 'black', 'hollinger', 'international', 'brother', 'currently', 'mull', 'sale', 'another', 'business', 'retailer', 'littlewoods', 'telegraph', 'executive', 'murdoch', 'maclennan', 'say', 'two', 'newspaper', 'would', 'add', 'eight', 'colour', 'page', 'come', 'month', 'journalist', 'lifeblood', 'newspaper', 'maintain', 'quality', 'daily', 'telegraph', 'sunday', 'telegraph', 'reader', 'vital', 'say', 'however', 'action', 'improve', 'production', 'capability', 'secure', 'title', 'competition', 'also', 'vital', 'many', 'newspaper', 'invest', 'new', 'print', 'machinery', 'enable', 'print', 'colour', 'page', 'case', 'colour', 'every', 'page', 'hope', 'boost', 'colour', 'make', 'publication', 'attractive', 'advertiser', 'reader', 'alike', 'recent', 'month', 'news', 'corp', 'news', 'international', 'unit', 'publish', 'sun', 'news', 'world', 'guardian', 'media', 'group', 'trinity', 'mirror', 'daily', 'mail', 'general', 'trust', 'announce', 'substantial', 'investment', 'new', 'print', 'plant'], ['air', 'passenger', 'win', 'new', 'eu', 'rightsair', 'passenger', 'unable', 'board', 'flight', 'overbooking', 'cancellation', 'flight', 'delay', 'demand', 'great', 'compensation', 'new', 'eu', 'rule', 'set', 'compensation', 'euro', 'euro', 'depend', 'length', 'flight', 'new', 'rule', 'apply', 'schedule', 'charter', 'flight', 'include', 'budget', 'airline', 'airline', 'attack', 'legislation', 'say', 'could', 'force', 'push', 'price', 'higher', 'cover', 'extra', 'cost', 'european', 'commission', 'face', 'two', 'legal', 'challenge', 'one', 'european', 'low', 'fare', 'airlines', 'association', 'elaa', 'international', 'air', 'transport', 'association', 'iata', 'attack', 'package', 'bad', 'piece', 'legislation', 'previously', 'passenger', 'could', 'claim', 'euro', 'euro', 'stop', 'boarding', 'however', 'schedule', 'flight', 'operator', 'oblige', 'offer', 'compensation', 'case', 'overbooke', 'offer', 'compensation', 'flight', 'cancellation', 'eu', 'decide', 'increase', 'passenger', 'compensation', 'bid', 'deter', 'airline', 'deliberately', 'overbooke', 'flight', 'overbooking', 'often', 'lead', 'bump', 'passenger', 'move', 'later', 'flight', 'happen', 'passenger', 'airline', 'offer', 'compensation', 'addition', 'flight', 'cancel', 'delay', 'two', 'hour', 'fault', 'airline', 'passenger', 'must', 'pay', 'compensation', 'however', 'airline', 'offer', 'compensation', 'flight', 'cancel', 'delay', 'due', 'extraordinary', 'circumstance', 'airline', 'fear', 'extraordinary', 'circumstance', 'may', 'include', 'bad', 'weather', 'security', 'alert', 'strike', 'event', 'outside', 'control', 'eu', 'base', 'airline', 'operator', 'flight', 'take', 'eu', 'adhere', 'new', 'compensation', 'regime', 'come', 'force', 'thursday', 'low', 'cost', 'airline', 'criticise', 'new', 'compensation', 'level', 'argue', 'pay', 'could', 'worth', 'ticket', 'preposterous', 'piece', 'legislation', 'among', 'airline', 'fight', 'ryanair', 'deputy', 'chief', 'executive', 'michael', 'cawley', 'tell', 'radio', 'today', 'programme', 'european', 'regions', 'airline', 'association', 'eraa', 'claim', 'neither', 'airline', 'consumer', 'consult', 'change', 'andy', 'clarke', 'eraa', 'director', 'air', 'transport', 'say', 'ec', 'advice', 'mislead', 'customer', 'lead', 'believe', 'airline', 'could', 'liable', 'payout', 'flight', 'delay', 'bad', 'weather', 'ec', 'spokeswoman', 'marja', 'quillinan', 'meiland', 'concede', 'grey', 'area', 'say', 'big', 'airline', 'make', 'case', 'dispute', 'national', 'enforcement', 'body', 'would', 'decide', 'whether', 'passenger', 'case', 'say', 'new', 'technology', 'mean', 'easy', 'airline', 'take', 'land', 'bad', 'weather', 'add', 'eraa', 'mr', 'clarke', 'also', 'warn', 'airline', 'would', 'comply', 'new', 'rule', 'extra', 'cost', 'would', 'pass', 'onto', 'passenger', 'reckon', 'go', 'cost', 'european', 'air', 'passenger', 'airline', 'airline', 'money', 'pay', 'passenger', 'bn', 'euro', 'bn', 'year', 'load', 'onto', 'european', 'passenger', 'mr', 'clarke', 'say', 'basically', 'transfer', 'money', 'passenger', 'whose', 'journey', 'disrupt', 'passenger', 'whose', 'journey', 'disrupt', 'on', 'wednesday', 'jacques', 'barrot', 'vice', 'president', 'european', 'commission', 'also', 'commissioner', 'transport', 'say', 'change', 'necessary', 'boom', 'air', 'travel', 'need', 'accompany', 'proper', 'protection', 'passenger', 'right', 'concrete', 'example', 'union', 'benefit', 'people', 'daily', 'live', 'add', 'ec', 'launch', 'information', 'campaign', 'airport', 'travel', 'agency', 'inform', 'airline', 'passenger', 'new', 'right'], ['china', 'keep', 'tight', 'rein', 'creditchina', 'effort', 'stop', 'economy', 'overheat', 'clamp', 'credit', 'continue', 'state', 'medium', 'report', 'curb', 'introduce', 'early', 'year', 'ward', 'risk', 'rapid', 'expansion', 'may', 'lead', 'soar', 'price', 'also', 'fear', 'much', 'stress', 'may', 'place', 'fragile', 'banking', 'system', 'growth', 'china', 'remain', 'breakneck', 'corporate', 'investment', 'grow', 'year', 'breakneck', 'pace', 'economic', 'expansion', 'keep', 'growth', 'year', 'rapid', 'tooling', 'china', 'manufacturing', 'sector', 'mean', 'massive', 'demand', 'energy', 'one', 'factor', 'keep', 'world', 'oil', 'price', 'sky', 'high', 'year', 'theory', 'government', 'growth', 'target', 'continue', 'insist', 'overshoot', 'mean', 'hard', 'landing', 'shape', 'overbalance', 'economy', 'low', 'exchange', 'rate', 'china', 'yuan', 'peg', 'rate', 'dollar', 'seem', 'relentless', 'decline', 'mean', 'chinese', 'export', 'cheap', 'world', 'market', 'china', 'thus', 'far', 'resist', 'international', 'pressure', 'break', 'link', 'least', 'shift', 'level', 'peg', 'extent', 'credit', 'control', 'seem', 'take', 'effect', 'industrial', 'output', 'grow', 'year', 'october', 'february', 'inflation', 'slow', 'although', 'retail', 'sale', 'still', 'boom'], ['parmalat', 'boast', 'double', 'profitsparmalat', 'italian', 'food', 'group', 'centre', 'one', 'europe', 'painful', 'corporate', 'scandal', 'report', 'doubling', 'profit', 'pre', 'tax', 'earning', 'fourth', 'quarter', 'euros', 'period', 'less', 'welcome', 'news', 'firm', 'fine', 'euro', 'violate', 'takeover', 'rule', 'five', 'year', 'ago', 'firm', 'seek', 'bankruptcy', 'protection', 'december', 'disclose', 'bn', 'euro', 'hole', 'account', 'overall', 'company', 'debt', 'close', 'bn', 'euro', 'fall', 'slowly', 'brand', 'well', 'know', 'italy', 'overseas', 'continue', 'perform', 'strongly', 'however', 'barely', 'lose', 'revenue', 'since', 'scandal', 'break', 'crucial', 'factor', 'company', 'future', 'legal', 'unwinding', 'intensely', 'complex', 'financial', 'position', 'tuesday', 'company', 'administrator', 'turnaround', 'expert', 'enrico', 'bondi', 'sue', 'morgan', 'stanley', 'former', 'banker', 'return', 'euros', 'relate', 'bond', 'deal', 'bring', 'number', 'bank', 'mr', 'bondi', 'sue', 'mass', 'legal', 'action', 'could', 'bring', 'much', 'bn', 'euro', 'company', 'also', 'sue', 'former', 'auditor', 'financial', 'advisor', 'damage', 'criminal', 'case', 'company', 'former', 'management', 'proceed', 'separately'], ['india', 'rupee', 'hit', 'five', 'year', 'highindia', 'rupee', 'hit', 'five', 'year', 'high', 'standard', 'poor', 'raise', 'country', 'foreign', 'currency', 'rating', 'rupee', 'climb', 'per', 'us', 'dollar', 'thursday', 'close', 'currency', 'gain', 'almost', 'past', 'three', 'session', 'rate', 'borrower', 'lift', 'india', 'rating', 'one', 'notch', 'bb', 'indian', 'asset', 'see', 'less', 'gamble', 'cash', 'expect', 'flow', 'market', 'buoy', 'rupee', 'the', 'upgrade', 'positive', 'basically', 'people', 'use', 'excuse', 'come', 'back', 'india', 'say', 'bhanu', 'baweja', 'strategist', 'ubs', 'money', 'move', 'india', 'first', 'two', 'three', 'week', 'january', 'market', 'like', 'korea', 'thailand', 'upgrade', 'lead', 'reversal', 'india', 'foreign', 'currency', 'rating', 'one', 'notch', 'investment', 'grade', 'start', 'bbb', 'increase', 'put', 'level', 'romania', 'egypt', 'el', 'salvador', 'one', 'level', 'russia'], ['india', 'widen', 'access', 'telecomsindia', 'raise', 'limit', 'foreign', 'direct', 'investment', 'telecom', 'company', 'communications', 'minister', 'dayanidhi', 'maran', 'say', 'need', 'fund', 'fast', 'grow', 'mobile', 'market', 'government', 'hope', 'increase', 'number', 'mobile', 'user', 'million', 'million', 'need', 'least', 'bn', 'bn', 'investment', 'part', 'come', 'foreign', 'direct', 'investment', 'say', 'mr', 'maran', 'decision', 'raise', 'limit', 'foreign', 'investor', 'face', 'considerable', 'opposition', 'communist', 'party', 'give', 'crucial', 'support', 'coalition', 'head', 'prime', 'minister', 'manmohan', 'singh', 'potential', 'foreign', 'investor', 'however', 'need', 'government', 'approval', 'increase', 'stake', 'beyond', 'mr', 'maran', 'say', 'key', 'position', 'chief', 'executive', 'chief', 'technology', 'officer', 'chief', 'financial', 'officer', 'hold', 'indians', 'add', 'analyst', 'investor', 'welcome', 'government', 'decision', 'positive', 'development', 'carrier', 'investment', 'community', 'look', 'take', 'long', 'term', 'view', 'huge', 'growth', 'indian', 'telecom', 'market', 'say', 'gartner', 'principal', 'analyst', 'kobita', 'desai', 'fdi', 'relaxation', 'couple', 'rapid', 'local', 'market', 'growth', 'could', 'really', 'ignite', 'interest', 'indian', 'industry', 'add', 'ernst', 'young', 'sanjay', 'mehta', 'investment', 'bank', 'morgan', 'stanley', 'forecast', 'india', 'mobile', 'market', 'likely', 'grow', 'year', 'indian', 'mobile', 'market', 'currently', 'dominate', 'four', 'company', 'bharti', 'televentures', 'ally', 'singapore', 'telecom', 'essar', 'link', 'hong', 'kong', 'base', 'hutchison', 'whampoa', 'sterling', 'group', 'tata', 'group'], ['call', 'centre', 'user', 'lose', 'patience', 'customers', 'try', 'get', 'call', 'centre', 'get', 'impatient', 'quick', 'hang', 'survey', 'suggest', 'past', 'welcome', 'message', 'caller', 'average', 'hang', 'second', 'listen', 'music', 'drop', 'patience', 'come', 'number', 'call', 'call', 'centre', 'grow', 'rate', 'every', 'year', 'customer', 'get', 'use', 'idea', 'always', 'available', 'society', 'say', 'cara', 'diemont', 'firm', 'dimension', 'data', 'commission', 'survey', 'however', 'call', 'centre', 'also', 'see', 'sharp', 'increase', 'customer', 'simply', 'abandon', 'call', 'say', 'record', 'last', 'year', 'automate', 'phone', 'message', 'system', 'take', 'equation', 'customer', 'pick', 'way', 'multiple', 'option', 'message', 'number', 'abandon', 'call', 'even', 'high', 'sixth', 'caller', 'give', 'rather', 'wait', 'one', 'possible', 'reason', 'lack', 'patience', 'ms', 'diemont', 'say', 'fact', 'customer', 'call', 'move', 'use', 'mobile', 'phone', 'surge', 'customer', 'try', 'get', 'call', 'centre', 'also', 'reflection', 'centre', 'grow', 'range', 'task', 'call', 'centre', 'may', 'look', 'mortgage', 'agent', 'may', 'also', 'responsible', 'credit', 'card', 'insurance', 'current', 'account', 'ms', 'diemont', 'say', 'problem', 'occur', 'increase', 'responsibility', 'go', 'hand', 'hand', 'training', 'survey', 'find', 'dimension', 'data', 'call', 'alarming', 'development', 'average', 'induction', 'time', 'call', 'centre', 'worker', 'fall', 'last', 'year', 'day', 'leave', 'agent', 'equip', 'deal', 'customer', 'ms', 'diemont', 'warn', 'scary', 'good', 'bottom', 'line', 'either', 'poor', 'training', 'frustrate', 'call', 'centre', 'worker', 'customer', 'result', 'call', 'centre', 'high', 'churn', 'rate', 'nearly', 'quarter', 'worker', 'throw', 'towel', 'every', 'year', 'turn', 'force', 'company', 'pay', 'train', 'new', 'staff', 'resolution', 'rate', 'number', 'call', 'customer', 'query', 'resolve', 'mutual', 'satisfaction', 'run', 'query', 'pass', 'second', 'third', 'person', 'specialist', 'manager', 'rate', 'rise', 'still', 'well', 'industry', 'target', 'resolution', 'rate', 'suggestion', 'outsource', 'relocate', 'call', 'centre', 'low', 'cost', 'country', 'like', 'india', 'south', 'africa', 'blame', 'wrong', 'ms', 'diemont', 'say', 'big', 'difference', 'wait', 'time', 'call', 'resolution', 'call', 'centre', 'base', 'europe', 'north', 'america', 'develop', 'country', 'around', 'world', 'make', 'call', 'centre', 'perform', 'anywhere', 'good', 'management', 'right', 'process', 'place', 'say', 'however', 'company', 'decide', 'offshore', 'operation', 'drive', 'cost', 'consideration', 'say', 'save', 'money', 'main', 'consideration', 'close', 'domestic', 'call', 'centre', 'operation', 'half', 'argue', 'worker', 'country', 'offer', 'well', 'skill', 'money', 'everybody', 'believe', 'outsourcing', 'offshoring', 'solution', 'nearly', 'two', 'third', 'firm', 'poll', 'survey', 'plan', 'offshore', 'call', 'centre', 'give', 'three', 'key', 'reason', 'make', 'move', 'call', 'centre', 'operation', 'part', 'business', 'core', 'function', 'worried', 'risk', 'go', 'abroad', 'fear', 'damage', 'brand', 'join', 'offshoring', 'drive', 'survey', 'conduct', 'sunovate', 'behalf', 'dimension', 'data', 'base', 'depth', 'questionnaire', 'call', 'centre', 'country', 'five', 'continent', 'experience', 'call', 'centre', 'happy', 'listen', 'vivaldi', 'greensleeves', 'want', 'immediate', 'response', 'work', 'call', 'centre', 'training', 'prepare', 'job'], ['rank', 'set', 'sell', 'film', 'unit', 'leisure', 'group', 'rank', 'could', 'unveil', 'plan', 'demerge', 'film', 'service', 'unit', 'sell', 'medium', 'business', 'report', 'claim', 'rank', 'formerly', 'famous', 'carry', 'series', 'expose', 'shake', 'announcement', 'result', 'friday', 'sunday', 'telegraph', 'report', 'advisor', 'goldman', 'sachs', 'understand', 'value', 'demerge', 'deluxe', 'film', 'unit', 'report', 'add', 'speculation', 'possible', 'shake', 'mount', 'since', 'rank', 'announce', 'study', 'possible', 'demerger', 'september', 'since', 'mike', 'smith', 'appointment', 'chief', 'executive', 'group', 'focus', 'business', 'embark', 'major', 'cost', 'cutting', 'programme', 'see', 'dispose', 'number', 'business', 'include', 'odeon', 'cinema', 'chain', 'pinewood', 'studio', 'move', 'leave', 'group', 'three', 'core', 'division', 'game', 'hard', 'rock', 'deluxe', 'films', 'provide', 'technical', 'service', 'hollywood', 'studio', 'rank', 'aim', 'concentrate', 'gaming', 'bar', 'hotel', 'business', 'include', 'extend', 'hard', 'rock', 'brand', 'casino', 'trial', 'success', 'also', 'deluxe', 'media', 'make', 'distribute', 'dvd', 'video', 'however', 'business', 'see', 'less', 'successful', 'last', 'year', 'make', 'profit', 'turnover', 'expert', 'suggest', 'success', 'move', 'dvd', 'vhs', 'video', 'could', 'make', 'attractive', 'target', 'private', 'equity', 'buyer', 'spokesman', 'firm', 'refuse', 'comment', 'report', 'say', 'result', 'demerg', 'study', 'likely', 'set', 'unveil', 'result', 'friday', 'analyst', 'predict', 'firm', 'likely', 'report', 'slight', 'drop', 'annual', 'pre', 'tax', 'profit', 'last', 'year', 'form', 'firm', 'lead', 'uk', 'film', 'producer', 'cinema', 'owner', 'many', 'year', 'diversify', 'range', 'leisure', 'activity', 'mainly', 'uk', 'include', 'hotel', 'roadside', 'service', 'area', 'holiday', 'centre', 'grosvenor', 'casino', 'mecca', 'bingo', 'chain', 'hard', 'rock', 'cafes', 'country'], ['sluggish', 'economy', 'hit', 'german', 'jobsthe', 'number', 'people', 'work', 'europe', 'large', 'economy', 'rise', 'tenth', 'straight', 'month', 'growth', 'remain', 'stubbornly', 'slow', 'german', 'unemployment', 'rise', 'november', 'million', 'people', 'workforce', 'seasonally', 'adjust', 'rise', 'show', 'small', 'rise', 'expect', 'government', 'measure', 'encourage', 'job', 'creation', 'begin', 'take', 'effect', 'official', 'say', 'stagnant', 'growth', 'still', 'stifle', 'job', 'market', 'clear', 'sign', 'revival', 'domestic', 'demand', 'say', 'frank', 'juergen', 'weise', 'head', 'federal', 'labour', 'agency', 'statement', 'growth', 'third', 'quarter', 'still', 'insufficient', 'deliver', 'positive', 'momentum', 'labour', 'market', 'high', 'oil', 'price', 'soar', 'euro', 'damage', 'competitiveness', 'exporter', 'also', 'negative', 'effect', 'say', 'brunt', 'unemployment', 'still', 'feel', 'eastern', 'part', 'germany', 'rate', 'with', 'unemployment', 'stick', 'million', 'year', 'government', 'chancellor', 'gerhard', 'schroeder', 'put', 'job', 'creation', 'top', 'agenda', 'controversial', 'package', 'measure', 'shake', 'incentive', 'get', 'back', 'work', 'pay', 'cut', 'cherish', 'benefit', 'spark', 'anger', 'among', 'german', 'worker', 'strike', 'number', 'industry', 'notably', 'among', 'country', 'iconic', 'carmaker', 'demonstrate', 'displeasure', 'well', 'fear', 'job', 'loss', 'outsourcing', 'take', 'hold', 'among', 'new', 'initiative', 'call', 'one', 'euro', 'job', 'top', 'unemployment', 'benefit', 'scheme', 'formal', 'launch', 'january', 'hiring', 'position', 'already', 'take', 'place', 'affect', 'unemployment', 'statistic', 'economist', 'say', 'deterioration', 'labour', 'market', 'come', 'surprise', 'say', 'isabelle', 'kronawitter', 'hypovereinsbank', 'job', 'creation', 'measure', 'probably', 'prevent', 'strong', 'increase', 'seasonally', 'adjust', 'number'], ['mixed', 'signal', 'french', 'economythe', 'french', 'economy', 'pick', 'speed', 'end', 'official', 'figure', 'show', 'still', 'look', 'set', 'fall', 'short', 'government', 'hope', 'accord', 'state', 'statistic', 'body', 'insee', 'growth', 'three', 'month', 'december', 'seasonally', 'adjust', 'ahead', 'forecast', 'confirm', 'would', 'good', 'quarterly', 'show', 'since', 'early', 'leave', 'gdp', 'full', 'year', 'short', 'french', 'government', 'predict', 'despite', 'apparent', 'shortfall', 'annual', 'economic', 'growth', 'good', 'quarterly', 'figure', 'call', 'flash', 'estimate', 'mark', 'continue', 'trend', 'improve', 'indicator', 'health', 'french', 'economy', 'government', 'reiterate', 'target', 'european', 'central', 'bank', 'make', 'positive', 'noise', 'nation', 'eurozone', 'whole', 'also', 'friday', 'france', 'industrial', 'output', 'december', 'release', 'show', 'growth', 'number', 'good', 'say', 'david', 'naude', 'economist', 'deutsche', 'bank', 'send', 'positive', 'signal', 'rebound', 'output', 'open', 'way', 'continuation', 'trend', 'new', 'year', 'service', 'sector', 'activity', 'improve', 'january', 'hit', 'seven', 'month', 'high', 'unemployment', 'remain', 'high'], ['us', 'trade', 'gap', 'hit', 'record', 'the', 'gap', 'us', 'export', 'import', 'hit', 'time', 'high', 'bn', 'bn', 'late', 'figure', 'show', 'commerce', 'department', 'say', 'trade', 'deficit', 'last', 'year', 'previous', 'record', 'imbalance', 'bn', 'deficit', 'china', 'bn', 'large', 'ever', 'record', 'single', 'country', 'however', 'monthly', 'basis', 'us', 'trade', 'gap', 'narrow', 'december', 'bn', 'us', 'consumer', 'appetite', 'thing', 'oil', 'import', 'car', 'even', 'wine', 'cheese', 'reach', 'record', 'level', 'last', 'year', 'figure', 'likely', 'spark', 'fresh', 'criticism', 'president', 'bush', 'economic', 'policy', 'democrats', 'claim', 'administration', 'enough', 'clamp', 'unfair', 'foreign', 'trade', 'practice', 'example', 'believe', 'china', 'currency', 'policy', 'us', 'manufacturer', 'claim', 'undervalue', 'yuan', 'much', 'give', 'china', 'rapidly', 'expand', 'economy', 'unfair', 'advantage', 'us', 'competitor', 'meanwhile', 'bush', 'administration', 'argue', 'us', 'deficit', 'reflect', 'fact', 'america', 'grow', 'fast', 'rate', 'rest', 'world', 'spur', 'demand', 'import', 'good', 'economist', 'say', 'may', 'allow', 'upward', 'revision', 'us', 'economic', 'growth', 'fourth', 'quarter', 'point', 'deficit', 'reach', 'astronomical', 'proportion', 'foreigner', 'many', 'choose', 'hold', 'many', 'dollar', 'denominate', 'asset', 'may', 'turn', 'harm', 'growth', 'us', 'export', 'rise', 'trillion', 'import', 'rise', 'even', 'fast', 'new', 'record', 'trillion', 'foreign', 'oil', 'export', 'surge', 'record', 'bn', 'reflect', 'rally', 'global', 'oil', 'price', 'increase', 'domestic', 'demand', 'import', 'affect', 'dollar', 'weakness', 'last', 'year', 'expect', 'deficit', 'continue', 'widen', 'even', 'dollar', 'get', 'back', 'downward', 'trend', 'say', 'economist', 'marie', 'pierre', 'ripert', 'ixis'], ['yukos', 'lose', 'us', 'bankruptcy', 'battlea', 'judge', 'dismiss', 'attempt', 'russian', 'oil', 'giant', 'yukos', 'gain', 'bankruptcy', 'protection', 'us', 'yukos', 'file', 'chapter', 'protection', 'houston', 'unsuccessful', 'attempt', 'halt', 'auction', 'yugansk', 'division', 'russian', 'authority', 'court', 'ruling', 'blow', 'effort', 'get', 'damage', 'sale', 'yugansk', 'yukos', 'claim', 'illegally', 'sell', 'separately', 'former', 'yukos', 'boss', 'mikhail', 'khodorkovsky', 'begin', 'testimony', 'friday', 'trial', 'fraud', 'tax', 'evasion', 'mr', 'khodorkovsky', 'jail', 'year', 'plead', 'guilty', 'charge', 'bring', 'deny', 'involvement', 'criminal', 'activity', 'pride', 'head', 'year', 'number', 'successful', 'company', 'help', 'enterprise', 'rise', 'knee', 'tell', 'russian', 'court', 'yugansk', 'auction', 'help', 'pay', 'bn', 'bn', 'unpaid', 'taxis', 'buy', 'bn', 'previously', 'unknown', 'group', 'turn', 'buy', 'almost', 'immediately', 'state', 'control', 'oil', 'company', 'rosneft', 'texas', 'judge', 'letitia', 'clark', 'say', 'yukos', 'enough', 'us', 'presence', 'establish', 'us', 'jurisdiction', 'vast', 'majority', 'business', 'financial', 'activity', 'yukos', 'continue', 'occur', 'russia', 'judge', 'clark', 'say', 'ruling', 'activity', 'require', 'continued', 'participation', 'russian', 'government', 'yukos', 'argue', 'us', 'court', 'entitle', 'declare', 'bankrupt', 'yugansk', 'unit', 'sell', 'since', 'local', 'bank', 'account', 'chief', 'finance', 'officer', 'bruce', 'misamore', 'live', 'houston', 'yukos', 'claim', 'seek', 'help', 'us', 'forum', 'russian', 'court', 'european', 'court', 'human', 'rights', 'either', 'unfriendly', 'offer', 'less', 'protection', 'russia', 'indicate', 'would', 'case', 'abide', 'ruling', 'us', 'court', 'ruling', 'judge', 'acknowledge', 'appear', 'likely', 'agency', 'russian', 'government', 'act', 'manner', 'would', 'consider', 'confiscatory', 'united', 'states', 'law', 'say', 'role', 'simply', 'decide', 'jurisdiction', 'us', 'court', 'jurisdiction', 'challenge', 'deutsche', 'bank', 'gazpromneft', 'former', 'unit', 'russian', 'gas', 'monopoly', 'gazprom', 'due', 'merge', 'rosneft', 'analyst', 'say', 'ability', 'gazprom', 'rosneft', 'trade', 'freely', 'overseas', 'stifle', 'ownership', 'yugansk', 'remain', 'unclear', 'yukos', 'say', 'would', 'consider', 'option', 'light', 'ruling', 'however', 'claim', 'court', 'back', 'argument', 'four', 'five', 'key', 'issue', 'believe', 'merit', 'case', 'strong', 'simple', 'say', 'chief', 'executive', 'steven', 'theede', 'asset', 'illegally', 'seize', 'want', 'back', 'damage', 'pay'], ['safety', 'alert', 'gm', 'recall', 'carsthe', 'world', 'big', 'carmaker', 'general', 'motors', 'gm', 'recall', 'nearly', 'vehicle', 'us', 'safety', 'ground', 'accord', 'federal', 'regulator', 'national', 'highway', 'traffic', 'safety', 'administration', 'nhtsa', 'say', 'large', 'recall', 'involve', 'pickup', 'van', 'sport', 'utility', 'vehicle', 'suv', 'possible', 'malfunction', 'brake', 'system', 'affect', 'vehicle', 'product', 'recall', 'model', 'year', 'gm', 'say', 'vehicle', 'potential', 'fault', 'chevrolet', 'avalanche', 'express', 'kodiak', 'silverade', 'suburban', 'gmc', 'savana', 'sierra', 'yukon', 'nhtsa', 'say', 'pressure', 'accumulator', 'brake', 'system', 'could', 'crack', 'normal', 'driving', 'fragment', 'could', 'injure', 'people', 'hood', 'open', 'could', 'allow', 'hydraulic', 'fluid', 'leak', 'could', 'make', 'hard', 'brake', 'steer', 'could', 'cause', 'crash', 'warn', 'gm', 'also', 'recall', 'cadillac', 'xlr', 'coupe', 'srx', 'suv', 'pontiac', 'grand', 'prix', 'sedan', 'model', 'year', 'accelerator', 'pedal', 'may', 'work', 'properly', 'extremely', 'cold', 'temperature', 'require', 'braking', 'addition', 'car', 'giant', 'call', 'back', 'buick', 'raniers', 'chevrolet', 'trailblazers', 'gmc', 'envoys', 'isuzu', 'ascenders', 'model', 'year', 'windshield', 'properly', 'fit', 'could', 'fall', 'crash', 'however', 'gm', 'stress', 'know', 'injury', 'relate', 'problem', 'news', 'recall', 'follow', 'announcement', 'last', 'month', 'gm', 'expect', 'earning', 'year', 'low', 'world', 'big', 'car', 'maker', 'grapple', 'loss', 'european', 'business', 'weak', 'us', 'sale', 'product', 'recall', 'january', 'gm', 'say', 'high', 'healthcare', 'cost', 'north', 'america', 'low', 'profit', 'financial', 'service', 'subsidiary', 'would', 'hurt', 'performance'], ['steel', 'firm', 'cut', 'jobsmittal', 'steel', 'one', 'world', 'large', 'steel', 'producer', 'could', 'cut', 'job', 'next', 'five', 'year', 'chief', 'executive', 'say', 'netherlands', 'base', 'company', 'due', 'complete', 'bn', 'acquisition', 'us', 'firm', 'isg', 'next', 'month', 'make', 'one', 'large', 'global', 'firm', 'kind', 'however', 'lakshmi', 'mittal', 'tell', 'investor', 'combine', 'company', 'shed', 'thousand', 'job', 'indian', 'bear', 'magnate', 'say', 'job', 'loss', 'would', 'fall', 'mr', 'mittal', 'tell', 'us', 'investor', 'acquisition', 'international', 'steel', 'group', 'complete', 'company', 'would', 'aim', 'reduce', 'workforce', 'annually', 'could', 'see', 'workforce', 'trim', 'staff', 'invest', 'modernisation', 'employee', 'go', 'mr', 'mittal', 'tell', 'conference', 'chicago', 'mittal', 'steel', 'form', 'last', 'year', 'mr', 'mittal', 'lnm', 'holdings', 'merge', 'dutch', 'firm', 'ispat', 'combination', 'mittal', 'steel', 'isg', 'would', 'annual', 'sale', 'bn', 'bn', 'bn', 'euro', 'production', 'capacity', 'million', 'tonne', 'mittal', 'steel', 'spokeman', 'say', 'decision', 'job', 'cut', 'make', 'yet', 'try', 'create', 'sustainable', 'steel', 'industry', 'want', 'invest', 'new', 'technology', 'spokesman', 'say', 'mittal', 'steel', 'operation', 'country', 'many', 'business', 'particularly', 'eastern', 'europe', 'previously', 'state', 'huge', 'workforce', 'employ', 'staff', 'kazakhstan', 'alone', 'large', 'operation', 'romania', 'czech', 'republic', 'south', 'africa', 'united', 'states'], ['strong', 'demand', 'trigger', 'oil', 'rallycrude', 'oil', 'price', 'surge', 'back', 'barrel', 'mark', 'thursday', 'energy', 'market', 'watchdog', 'raise', 'forecast', 'global', 'demand', 'international', 'energy', 'agency', 'iea', 'warn', 'demand', 'opec', 'crude', 'first', 'quarter', 'would', 'outstrip', 'supply', 'iea', 'raise', 'estimate', 'oil', 'demand', 'growth', 'barrel', 'day', 'million', 'barrel', 'day', 'us', 'light', 'crude', 'rise', 'brent', 'crude', 'london', 'gain', 'the', 'paris', 'base', 'iea', 'watchdog', 'advise', 'industrialized', 'nation', 'energy', 'policy', 'say', 'upward', 'revision', 'due', 'strong', 'demand', 'china', 'asian', 'country', 'fresh', 'rally', 'crude', 'price', 'follow', 'gain', 'wednesday', 'trigger', 'large', 'fall', 'us', 'crude', 'supply', 'follow', 'cold', 'spell', 'north', 'america', 'january', 'us', 'department', 'energy', 'report', 'crude', 'stockpile', 'fall', 'barrel', 'top', 'ongoing', 'problem', 'beleaguered', 'russian', 'oil', 'giant', 'yukos', 'also', 'prompt', 'iea', 'revise', 'output', 'estimate', 'russia', 'major', 'non', 'opec', 'supplier', 'think', 'price', 'begin', 'set', 'new', 'range', 'look', 'like', 'level', 'say', 'energy', 'analyst', 'orin', 'middleton', 'barclays', 'capital'], ['uk', 'firm', 'face', 'venezuelan', 'land', 'rowvenezuelan', 'authority', 'say', 'seize', 'land', 'british', 'company', 'part', 'president', 'chavez', 'agrarian', 'reform', 'programme', 'official', 'cojedes', 'state', 'say', 'friday', 'farmland', 'subsidiary', 'vestey', 'group', 'would', 'take', 'use', 'settle', 'poor', 'farmer', 'government', 'crack', 'call', 'latifundio', 'large', 'rural', 'estate', 'say', 'lie', 'idle', 'vestey', 'group', 'say', 'inform', 'plan', 'seizure', 'firm', 'whose', 'agroflora', 'subsidiary', 'operate', 'farm', 'venezuela', 'insist', 'comply', 'fully', 'venezuelan', 'law', 'prosecutor', 'south', 'country', 'target', 'hato', 'el', 'charcote', 'beef', 'cattle', 'ranch', 'agroflora', 'accord', 'reuters', 'plan', 'seize', 'acre', 'hectare', 'acre', 'hectare', 'farm', 'official', 'claim', 'agroflora', 'possess', 'valid', 'document', 'prove', 'ownership', 'land', 'question', 'also', 'allege', 'area', 'ranch', 'use', 'form', 'active', 'production', 'legal', 'boundary', 'match', 'actual', 'boundary', 'surplus', 'state', 'prosecutor', 'alexis', 'ortiz', 'tell', 'reuters', 'consequence', 'government', 'take', 'action', 'controversial', 'reform', 'pass', 'give', 'government', 'right', 'take', 'control', 'private', 'property', 'declare', 'idle', 'ownership', 'trace', 'back', 'th', 'century', 'critic', 'say', 'power', 'president', 'chavez', 'argue', 'need', 'help', 'country', 'poor', 'citizen', 'develop', 'venezuelan', 'economy', 'trample', 'private', 'property', 'right', 'vestey', 'group', 'say', 'land', 'since', 'would', 'co', 'operate', 'fully', 'authority', 'spokesman', 'add', 'agroflora', 'absolutely', 'confident', 'submit', 'demonstrate', 'legality', 'title', 'land', 'company', 'point', 'farm', 'employ', 'worker', 'provide', 'meat', 'solely', 'venezuelan', 'market', 'last', 'month', 'government', 'say', 'identify', 'idle', 'farm', 'yet', 'consider', 'status', 'authority', 'say', 'landowner', 'whose', 'title', 'order', 'whose', 'farm', 'productive', 'nothing', 'fear', 'president', 'chavez', 'venezuelan', 'government', 'steadily', 'expand', 'state', 'involvement', 'country', 'economy', 'recently', 'say', 'mining', 'contract', 'involve', 'foreign', 'firm', 'would', 'examine', 'ensure', 'provide', 'sufficient', 'economic', 'benefit', 'state'], ['soar', 'oil', 'hit', 'world', 'economy', 'the', 'soar', 'cost', 'oil', 'hit', 'global', 'economic', 'growth', 'although', 'world', 'major', 'economy', 'weather', 'storm', 'price', 'rise', 'accord', 'oecd', 'in', 'late', 'bi', 'annual', 'report', 'oecd', 'cut', 'growth', 'prediction', 'world', 'main', 'industrialise', 'region', 'us', 'growth', 'would', 'reach', 'fall', 'next', 'year', 'previous', 'estimate', 'oecd', 'say', 'however', 'paris', 'base', 'economic', 'think', 'tank', 'say', 'believe', 'global', 'economy', 'could', 'still', 'regain', 'momentum', 'forecast', 'japanese', 'growth', 'also', 'scale', 'back', 'year', 'outlook', 'bad', 'member', 'eurozone', 'bloc', 'already', 'sluggish', 'growth', 'forecast', 'slip', 'year', 'oecd', 'say', 'overall', 'report', 'forecast', 'total', 'growth', 'member', 'country', 'oecd', 'slip', 'next', 'year', 'recover', 'nonetheless', 'good', 'reason', 'believe', 'despite', 'recent', 'oil', 'price', 'turbulence', 'world', 'economy', 'regain', 'momentum', 'distant', 'future', 'say', 'jean', 'philippe', 'cotis', 'oecd', 'chief', 'economist', 'price', 'crude', 'high', 'start', 'record', 'high', 'set', 'late', 'october', 'dip', 'oil', 'price', 'improve', 'job', 'prospect', 'would', 'improve', 'consumer', 'confidence', 'spending', 'oecd', 'say', 'oil', 'shock', 'enormous', 'historical', 'standard', 'see', 'bad', 'seventy', 'oil', 'price', 'rise', 'think', 'shock', 'absorb', 'within', 'next', 'quarter', 'vincent', 'koen', 'senior', 'economist', 'oecd', 'tell', 'bbc', 'world', 'business', 'report', 'recovery', 'underway', 'interrupt', 'bit', 'oil', 'shock', 'year', 'would', 'regain', 'momentum', 'course', 'china', 'boom', 'economy', 'spectacular', 'comeback', 'japan', 'albeit', 'one', 'falter', 'recent', 'month', 'would', 'help', 'world', 'economic', 'recovery', 'oecd', 'say', 'support', 'strong', 'balance', 'sheet', 'high', 'profit', 'recovery', 'business', 'investment', 'continue', 'north', 'america', 'start', 'earnest', 'europe', 'add', 'however', 'report', 'warn', 'remain', 'see', 'whether', 'continental', 'europe', 'play', 'strong', 'supportive', 'role', 'mark', 'upswing', 'final', 'domestic', 'demand', 'oecd', 'highlight', 'current', 'depressed', 'household', 'expenditure', 'germany', 'eurozone', 'reliance', 'export', 'lead', 'growth'], ['irish', 'market', 'reach', 'time', 'highirish', 'share', 'rise', 'record', 'high', 'investor', 'persuade', 'buy', 'market', 'low', 'inflation', 'strong', 'growth', 'forecast', 'iseq', 'index', 'lead', 'share', 'close', 'point', 'thursday', 'fuel', 'strong', 'growth', 'banking', 'financial', 'stock', 'fall', 'rate', 'inflation', 'january', 'give', 'fresh', 'boost', 'share', 'advance', 'month', 'economy', 'set', 'strong', 'growth', 'interest', 'rate', 'remain', 'low', 'several', 'ireland', 'big', 'company', 'see', 'market', 'value', 'hit', 'recent', 'high', 'thursday', 'allied', 'irish', 'banks', 'ireland', 'big', 'company', 'capitalisation', 'touch', 'five', 'year', 'peak', 'bank', 'ireland', 'share', 'rise', 'high', 'level', 'since', 'august', 'telecoms', 'firm', 'eircom', 'recently', 'reveal', 'would', 'enter', 'irish', 'mobile', 'phone', 'market', 'hit', 'yearly', 'high', 'analyst', 'say', 'economic', 'condition', 'benign', 'irish', 'share', 'still', 'trade', 'discount', 'european', 'market', 'ireland', 'tick', 'box', 'far', 'international', 'investor', 'concern', 'roy', 'asher', 'chief', 'investment', 'officer', 'hibernian', 'investment', 'managers', 'tell', 'reuters', 'buoyant', 'economic', 'condition', 'set', 'continue', 'ireland', 'next', 'year', 'irish', 'equity', 'continue', 'offer', 'quality', 'growth', 'reasonable', 'valuation', 'bernard', 'mcalinden', 'head', 'equity', 'research', 'ncb', 'stockbrokers', 'say', 'equity', 'represent', 'good', 'value', 'compare', 'investment', 'still', 'look', 'good', 'tell', 'reuters', 'see', 'good', 'economic', 'datum', 'ireland', 'benefit', 'financial', 'stock', 'ireland', 'economic', 'miracle', 'enjoy', 'second', 'wind', 'growth', 'forecast', 'economy', 'cool', 'markedly', 'enjoy', 'spectacular', 'growth', 'however', 'bounce', 'back', 'strongly', 'growth', 'expect'], ['japanese', 'banking', 'battle', 'endjapan', 'sumitomo', 'mitsui', 'financial', 'withdraw', 'takeover', 'offer', 'rival', 'bank', 'ufj', 'holdings', 'enable', 'latter', 'merge', 'mitsubishi', 'tokyo', 'sumitomo', 'boss', 'tell', 'counterpart', 'ufj', 'decision', 'friday', 'clear', 'way', 'conclude', 'trillion', 'yen', 'bn', 'deal', 'mitsubishi', 'deal', 'would', 'create', 'world', 'big', 'bank', 'asset', 'trillion', 'yen', 'trillion', 'sumitomo', 'exit', 'end', 'high', 'profile', 'fight', 'japanese', 'bank', 'history', 'ufj', 'holdings', 'japan', 'fourth', 'large', 'bank', 'centre', 'fierce', 'bid', 'battle', 'last', 'year', 'sumitomo', 'japan', 'third', 'large', 'bank', 'table', 'high', 'offer', 'ufj', 'rival', 'value', 'company', 'bn', 'however', 'ufj', 'management', 'know', 'prefer', 'offer', 'mitsubishi', 'tokyo', 'financial', 'group', 'mtfg', 'japan', 'second', 'large', 'bank', 'concern', 'also', 'raise', 'sumitomo', 'ability', 'absorb', 'ufj', 'former', 'admit', 'defeat', 'believe', 'market', 'investor', 'accept', 'ufj', 'mtfg', 'merger', 'sumitomo', 'say', 'statement', 'give', 'ongoing', 'integration', 'ufj', 'mtfg', 'operation', 'persist', 'proposal', 'may', 'good', 'interest', 'shareholder', 'ufj', 'mitsubishi', 'takeover', 'ufj', 'japan', 'large', 'ever', 'takeover', 'deal', 'still', 'approve', 'shareholder', 'two', 'firm', 'however', 'expect', 'formality', 'sumitomo', 'may', 'turn', 'attention', 'deepen', 'tie', 'daiwa', 'securities', 'another', 'japanese', 'financial', 'firm', 'two', 'set', 'merge', 'venture', 'capital', 'operation', 'speculation', 'could', 'lead', 'full', 'blown', 'merger', 'japanese', 'bank', 'increasingly', 'seek', 'alliance', 'boost', 'profit'], ['rich', 'grab', 'half', 'colombia', 'poor', 'fundhalf', 'money', 'put', 'aside', 'colombian', 'government', 'help', 'country', 'poor', 'benefit', 'people', 'need', 'study', 'find', 'total', 'trillion', 'peso', 'bn', 'bn', 'earmark', 'subsidy', 'poor', 'government', 'department', 'planning', 'say', 'also', 'find', 'trillion', 'peso', 'go', 'rich', 'part', 'population', 'rather', 'need', 'sound', 'distribution', 'cash', 'could', 'cut', 'poverty', 'level', 'government', 'believe', 'resource', 'enough', 'reduce', 'poverty', 'need', 'tax', 'reform', 'well', 'distribution', 'deputy', 'planning', 'director', 'jose', 'leibovich', 'say', 'colombia', 'population', 'million', 'half', 'life', 'poverty', 'line', 'however', 'large', 'property', 'pay', 'less', 'tax', 'situate', 'inside', 'poor', 'area', 'benefit', 'cheap', 'utility', 'electricity', 'water', 'government', 'research', 'find', 'government', 'expenditure', 'area', 'pension', 'public', 'service', 'education', 'property', 'health', 'revise', 'mr', 'leibovich', 'say', 'add', 'government', 'examine', 'report', 'warn', 'would', 'easy', 'solution', 'problem', 'good', 'distribution', 'subsidy', 'economic', 'growth', 'poverty', 'could', 'fall', 'low', 'say'], ['rover', 'deal', 'may', 'cost', 'jobs', 'some', 'job', 'mg', 'rover', 'midland', 'plant', 'may', 'cut', 'investment', 'firm', 'chinese', 'car', 'maker', 'go', 'ahead', 'financial', 'times', 'report', 'shanghai', 'automotive', 'industry', 'corp', 'plan', 'shift', 'production', 'rover', 'china', 'export', 'uk', 'source', 'close', 'negotiation', 'tell', 'ft', 'rover', 'tell', 'bbc', 'news', 'report', 'job', 'cut', 'speculation', 'tie', 'see', 'rover', 'last', 'chance', 'save', 'longbridge', 'plant', 'push', 'uk', 'chancellor', 'gordon', 'brown', 'rover', 'confirm', 'tie', 'would', 'take', 'place', 'far', 'away', 'time', 'rover', 'boss', 'say', 'confident', 'bn', 'bn', 'investment', 'deal', 'would', 'sign', 'march', 'early', 'april', 'transport', 'general', 'worker', 'union', 'general', 'secretary', 'tony', 'woodley', 'repeat', 'view', 'friday', 'merger', 'lead', 'job', 'cut', 'say', 'investment', 'new', 'model', 'need', 'ensure', 'future', 'birmingham', 'plant', 'crucial', 'delicate', 'time', 'effort', 'target', 'secure', 'new', 'model', 'company', 'mean', 'job', 'people', 'say', 'saic', 'say', 'none', 'money', 'pay', 'four', 'owner', 'rover', 'accuse', 'union', 'award', 'exorbitant', 'salary', 'ft', 'report', 'saic', 'extremely', 'concerned', 'ensure', 'money', 'use', 'invest', 'business', 'rather', 'distribute', 'shareholder', 'newspaper', 'quote', 'source', 'close', 'chinese', 'firm', 'meanwhile', 'accord', 'chinese', 'state', 'press', 'report', 'small', 'state', 'carmaker', 'nanjing', 'auto', 'negotiation', 'rover', 'saic', 'take', 'stake', 'joint', 'venture', 'saic', 'unavailable', 'comment', 'job', 'cut', 'contact', 'bbc', 'news', 'rover', 'saic', 'sign', 'technology', 'sharing', 'agreement', 'august'], ['ad', 'firm', 'wpp', 'profit', 'surge', 'uk', 'advertising', 'giant', 'wpp', 'post', 'large', 'expect', 'annual', 'profit', 'predict', 'outperform', 'market', 'pre', 'tax', 'profit', 'rise', 'year', 'ago', 'reach', 'bn', 'ahead', 'average', 'analyst', 'forecast', 'revenue', 'bn', 'firm', 'operating', 'margin', 'say', 'could', 'reach', 'year', 'wpp', 'buy', 'us', 'rival', 'grey', 'global', 'create', 'giant', 'big', 'enough', 'rival', 'sector', 'leader', 'omnicom', 'chief', 'executive', 'martin', 'sorrell', 'friday', 'tell', 'reuters', 'news', 'agency', 'wpp', 'submit', 'proposal', 'united', 'business', 'media', 'nop', 'world', 'market', 'research', 'unit', 'analyst', 'say', 'unit', 'sell', 'could', 'sell', 'wpp', 'recent', 'year', 'also', 'buy', 'firm', 'ogilvy', 'mather', 'cordiant', 'communications', 'also', 'include', 'firm', 'young', 'rubicam', 'walter', 'thompson', 'event', 'olympics', 'help', 'boost', 'wpp', 'profit', 'company', 'say', 'us', 'congressional', 'election', 'fifa', 'world', 'cup', 'likely', 'present', 'advertising', 'opportunity', 'near', 'future', 'long', 'term', 'outlook', 'look', 'favourable', 'medium', 'technology', 'development', 'strength', 'us', 'economy', 'wpp', 'say']]\n"
     ]
    },
    {
     "name": "stderr",
     "output_type": "stream",
     "text": [
      "C:\\Users\\sanat\\AppData\\Roaming\\Python\\Python37\\site-packages\\ipykernel\\ipkernel.py:287: DeprecationWarning: `should_run_async` will not call `transform_cell` automatically in the future. Please pass the result to `transformed_cell` argument and any exception that happen during thetransform in `preprocessing_exc_tuple` in IPython 7.17 and above.\n",
      "  and should_run_async(code)\n"
     ]
    }
   ],
   "source": [
    "print(data_words[:35])"
   ]
  },
  {
   "cell_type": "code",
   "execution_count": 79,
   "metadata": {},
   "outputs": [
    {
     "name": "stderr",
     "output_type": "stream",
     "text": [
      "C:\\Users\\sanat\\AppData\\Roaming\\Python\\Python37\\site-packages\\ipykernel\\ipkernel.py:287: DeprecationWarning: `should_run_async` will not call `transform_cell` automatically in the future. Please pass the result to `transformed_cell` argument and any exception that happen during thetransform in `preprocessing_exc_tuple` in IPython 7.17 and above.\n",
      "  and should_run_async(code)\n"
     ]
    },
    {
     "name": "stdout",
     "output_type": "stream",
     "text": [
      "['ad', 'sale', 'boost', 'time', 'warner', 'profitquarterly', 'profit', 'us', 'media', 'giant', 'timewarner', 'jump', 'bn', 'three', 'month', 'december', 'year', 'early', 'firm', 'one', 'big', 'investor', 'google', 'benefit', 'sale', 'high_speed', 'internet', 'connection', 'high', 'advert', 'sale', 'timewarner', 'say', 'fourth_quarter', 'sale', 'rise', 'bn', 'bn', 'profit', 'buoy', 'one', 'gain', 'offset', 'profit', 'dip', 'warner_bros', 'less', 'user', 'aol', 'time', 'warner', 'say', 'friday', 'search_engine', 'google', 'internet', 'business', 'aol', 'mix', 'fortune', 'lose', 'subscriber', 'fourth_quarter', 'profit', 'low', 'precede', 'three', 'quarter', 'however', 'company', 'say', 'aol', 'underlie', 'profit', 'exceptional', 'item', 'rise', 'back', 'strong', 'internet', 'advertising_revenue', 'hope', 'increase', 'subscriber', 'offer', 'online', 'service', 'free', 'timewarner', 'internet', 'customer', 'try', 'sign', 'aol', 'exist', 'customer', 'high_speed', 'broadband', 'timewarner', 'also', 'restate', 'result', 'follow', 'probe', 'us', 'securities_exchange_commission', 'sec', 'close', 'conclude', 'time', 'warner', 'fourth_quarter', 'profit', 'slightly', 'well', 'analyst', 'expectation', 'film', 'division', 'see', 'profit', 'slump', 'help', 'box_office', 'flop', 'alexander', 'catwoman', 'sharp', 'contrast', 'year', 'early', 'third', 'final', 'film', 'lord_rings', 'trilogy', 'boost', 'result', 'full', 'year', 'timewarner', 'post', 'profit', 'bn', 'performance', 'revenue', 'grow', 'bn', 'financial', 'performance', 'strong', 'meet', 'exceed', 'full', 'year', 'objective', 'greatly', 'enhance', 'flexibility', 'chairman', 'chief_executive', 'richard', 'parsons', 'say', 'timewarner', 'project', 'operate', 'earning', 'growth', 'around', 'also', 'expect', 'high', 'revenue', 'wide', 'profit', 'margin', 'timewarner', 'restate', 'account', 'part', 'effort', 'resolve', 'inquiry', 'aol', 'us', 'market', 'regulator', 'already', 'offer', 'pay', 'settle', 'charge', 'deal', 'review', 'sec', 'company', 'say', 'unable', 'estimate', 'amount', 'need', 'set', 'aside', 'legal', 'reserve', 'previously', 'set', 'intend', 'adjust', 'way', 'account', 'deal', 'german', 'music', 'publisher', 'bertelsmann', 'purchase', 'stake', 'aol', 'europe', 'report', 'advertising_revenue', 'book', 'sale', 'stake', 'aol', 'europe', 'loss', 'value', 'stake']\n"
     ]
    }
   ],
   "source": [
    "\n",
    "# Build the bigram and trigram models\n",
    "bigram = gensim.models.Phrases(data_words, min_count=5, threshold=100) # higher threshold fewer phrases.\n",
    "trigram = gensim.models.Phrases(bigram[data_words], threshold=100)  \n",
    "\n",
    "# Faster way to get a sentence clubbed as a trigram/bigram\n",
    "bigram_mod = gensim.models.phrases.Phraser(bigram)\n",
    "trigram_mod = gensim.models.phrases.Phraser(trigram)\n",
    "\n",
    "# See trigram example\n",
    "print(trigram_mod[bigram_mod[data_words[0]]])"
   ]
  },
  {
   "cell_type": "code",
   "execution_count": 80,
   "metadata": {},
   "outputs": [
    {
     "name": "stderr",
     "output_type": "stream",
     "text": [
      "C:\\Users\\sanat\\AppData\\Roaming\\Python\\Python37\\site-packages\\ipykernel\\ipkernel.py:287: DeprecationWarning: `should_run_async` will not call `transform_cell` automatically in the future. Please pass the result to `transformed_cell` argument and any exception that happen during thetransform in `preprocessing_exc_tuple` in IPython 7.17 and above.\n",
      "  and should_run_async(code)\n"
     ]
    }
   ],
   "source": [
    "\n",
    "# Define functions for stopwords, bigrams, trigrams and lemmatization\n",
    "def remove_stopwords(texts):\n",
    "    return [[word for word in simple_preprocess(str(doc)) if word not in stop_words] for doc in texts]\n",
    "\n",
    "def make_bigrams(texts):\n",
    "    return [bigram_mod[doc] for doc in texts]\n",
    "\n",
    "def make_trigrams(texts):\n",
    "    return [trigram_mod[bigram_mod[doc]] for doc in texts]\n",
    "\n",
    "def lemmatization(texts, allowed_postags=['NOUN', 'ADJ', 'VERB', 'ADV']):\n",
    "    \"\"\"https://spacy.io/api/annotation\"\"\"\n",
    "    texts_out = []\n",
    "    for sent in texts:\n",
    "        doc = nlp(\" \".join(sent)) \n",
    "        texts_out.append([token.lemma_ for token in doc if token.pos_ in allowed_postags])\n",
    "    return texts_out"
   ]
  },
  {
   "cell_type": "code",
   "execution_count": 81,
   "metadata": {},
   "outputs": [
    {
     "name": "stderr",
     "output_type": "stream",
     "text": [
      "C:\\Users\\sanat\\AppData\\Roaming\\Python\\Python37\\site-packages\\ipykernel\\ipkernel.py:287: DeprecationWarning: `should_run_async` will not call `transform_cell` automatically in the future. Please pass the result to `transformed_cell` argument and any exception that happen during thetransform in `preprocessing_exc_tuple` in IPython 7.17 and above.\n",
      "  and should_run_async(code)\n"
     ]
    },
    {
     "name": "stdout",
     "output_type": "stream",
     "text": [
      "[['ad', 'sale', 'time', 'profitquarterly', 'profit', 'medium', 'giant', 'month', 'year', 'early', 'firm', 'big', 'investor', 'benefit', 'sale', 'internet', 'connection', 'high', 'advert', 'sale', 'sale', 'rise', 'profit', 'gain', 'profit', 'dip', 'less', 'user', 'business', 'fortune', 'lose', 'subscriber', 'profit', 'low', 'quarter', 'company', 'profit', 'exceptional', 'item', 'rise', 'back', 'strong', 'internet', 'hope', 'increase', 'subscriber', 'offer', 'online', 'free', 'customer', 'sign', 'exist', 'customer', 'broadband', 'timewarner', 'result', 'follow', 'probe', 'close', 'time', 'profit', 'slightly', 'well', 'analyst', 'profit', 'slump', 'help', 'contrast', 'year', 'early', 'third', 'final', 'film', 'trilogy', 'boost', 'result', 'full', 'year', 'performance', 'revenue', 'grow', 'financial', 'performance', 'strong', 'exceed', 'full', 'year', 'objective', 'greatly', 'enhance', 'flexibility', 'parson', 'operate', 'earn', 'growth', 'around', 'expect', 'high', 'revenue', 'wide', 'profit', 'margin', 'account', 'part', 'effort', 'resolve', 'inquiry', 'market', 'regulator', 'already', 'offer', 'pay', 'charge', 'deal', 'review', 'company', 'unable', 'estimate', 'amount', 'legal', 'reserve', 'previously', 'intend', 'adjust', 'account', 'deal', 'german', 'music', 'publisher', 'book', 'sale', 'stake', 'loss', 'value', 'stake']]\n"
     ]
    }
   ],
   "source": [
    "\n",
    "data_words_nostops = remove_stopwords(data_words)\n",
    "\n",
    "# Form Bigrams\n",
    "data_words_bigrams = make_bigrams(data_words_nostops)\n",
    "\n",
    "# Initialize spacy 'en' model, keeping only tagger component (for efficiency)\n",
    "# python3 -m spacy download en\n",
    "#nlp = spacy.load('en', disable=['parser', 'ner'])\n",
    "\n",
    "# Do lemmatization keeping only noun, adj, vb, adv\n",
    "data_lemmatized = lemmatization(data_words_bigrams, allowed_postags=['NOUN', 'ADJ', 'VERB', 'ADV'])\n",
    "\n",
    "print(data_lemmatized[:1])"
   ]
  },
  {
   "cell_type": "code",
   "execution_count": 82,
   "metadata": {},
   "outputs": [
    {
     "name": "stderr",
     "output_type": "stream",
     "text": [
      "C:\\Users\\sanat\\AppData\\Roaming\\Python\\Python37\\site-packages\\ipykernel\\ipkernel.py:287: DeprecationWarning: `should_run_async` will not call `transform_cell` automatically in the future. Please pass the result to `transformed_cell` argument and any exception that happen during thetransform in `preprocessing_exc_tuple` in IPython 7.17 and above.\n",
      "  and should_run_async(code)\n"
     ]
    },
    {
     "name": "stdout",
     "output_type": "stream",
     "text": [
      "[[(0, 2), (1, 1), (2, 1), (3, 1), (4, 1), (5, 1), (6, 1), (7, 1), (8, 1), (9, 1), (10, 1), (11, 1), (12, 1), (13, 1), (14, 1), (15, 1), (16, 1), (17, 2), (18, 1), (19, 1), (20, 2), (21, 2), (22, 1), (23, 2), (24, 1), (25, 1), (26, 1), (27, 1), (28, 1), (29, 1), (30, 1), (31, 1), (32, 1), (33, 1), (34, 1), (35, 1), (36, 1), (37, 1), (38, 1), (39, 1), (40, 2), (41, 1), (42, 1), (43, 1), (44, 1), (45, 1), (46, 1), (47, 1), (48, 2), (49, 1), (50, 1), (51, 1), (52, 1), (53, 2), (54, 1), (55, 1), (56, 1), (57, 1), (58, 1), (59, 1), (60, 1), (61, 1), (62, 1), (63, 1), (64, 1), (65, 1), (66, 1), (67, 2), (68, 1), (69, 1), (70, 1), (71, 1), (72, 1), (73, 2), (74, 1), (75, 1), (76, 8), (77, 1), (78, 1), (79, 1), (80, 1), (81, 1), (82, 1), (83, 2), (84, 2), (85, 1), (86, 2), (87, 5), (88, 1), (89, 1), (90, 1), (91, 2), (92, 2), (93, 2), (94, 1), (95, 2), (96, 1), (97, 1), (98, 1), (99, 1), (100, 1), (101, 1), (102, 1), (103, 4)]]\n"
     ]
    }
   ],
   "source": [
    "# Create Dictionary\n",
    "id2word = corpora.Dictionary(data_lemmatized)\n",
    "\n",
    "# Create Corpus\n",
    "texts = data_lemmatized\n",
    "\n",
    "# Term Document Frequency\n",
    "corpus = [id2word.doc2bow(text) for text in texts]\n",
    "\n",
    "# View\n",
    "print(corpus[:1])"
   ]
  },
  {
   "cell_type": "code",
   "execution_count": 83,
   "metadata": {},
   "outputs": [
    {
     "name": "stderr",
     "output_type": "stream",
     "text": [
      "C:\\Users\\sanat\\AppData\\Roaming\\Python\\Python37\\site-packages\\ipykernel\\ipkernel.py:287: DeprecationWarning: `should_run_async` will not call `transform_cell` automatically in the future. Please pass the result to `transformed_cell` argument and any exception that happen during thetransform in `preprocessing_exc_tuple` in IPython 7.17 and above.\n",
      "  and should_run_async(code)\n"
     ]
    },
    {
     "data": {
      "text/plain": [
       "'account'"
      ]
     },
     "execution_count": 83,
     "metadata": {},
     "output_type": "execute_result"
    }
   ],
   "source": [
    "\n",
    "id2word[0]"
   ]
  },
  {
   "cell_type": "code",
   "execution_count": 84,
   "metadata": {},
   "outputs": [
    {
     "name": "stderr",
     "output_type": "stream",
     "text": [
      "C:\\Users\\sanat\\AppData\\Roaming\\Python\\Python37\\site-packages\\ipykernel\\ipkernel.py:287: DeprecationWarning: `should_run_async` will not call `transform_cell` automatically in the future. Please pass the result to `transformed_cell` argument and any exception that happen during thetransform in `preprocessing_exc_tuple` in IPython 7.17 and above.\n",
      "  and should_run_async(code)\n"
     ]
    },
    {
     "data": {
      "text/plain": [
       "[[('account', 2),\n",
       "  ('ad', 1),\n",
       "  ('adjust', 1),\n",
       "  ('advert', 1),\n",
       "  ('already', 1),\n",
       "  ('amount', 1),\n",
       "  ('analyst', 1),\n",
       "  ('around', 1),\n",
       "  ('back', 1),\n",
       "  ('benefit', 1),\n",
       "  ('big', 1),\n",
       "  ('book', 1),\n",
       "  ('boost', 1),\n",
       "  ('broadband', 1),\n",
       "  ('business', 1),\n",
       "  ('charge', 1),\n",
       "  ('close', 1),\n",
       "  ('company', 2),\n",
       "  ('connection', 1),\n",
       "  ('contrast', 1),\n",
       "  ('customer', 2),\n",
       "  ('deal', 2),\n",
       "  ('dip', 1),\n",
       "  ('early', 2),\n",
       "  ('earn', 1),\n",
       "  ('effort', 1),\n",
       "  ('enhance', 1),\n",
       "  ('estimate', 1),\n",
       "  ('exceed', 1),\n",
       "  ('exceptional', 1),\n",
       "  ('exist', 1),\n",
       "  ('expect', 1),\n",
       "  ('film', 1),\n",
       "  ('final', 1),\n",
       "  ('financial', 1),\n",
       "  ('firm', 1),\n",
       "  ('flexibility', 1),\n",
       "  ('follow', 1),\n",
       "  ('fortune', 1),\n",
       "  ('free', 1),\n",
       "  ('full', 2),\n",
       "  ('gain', 1),\n",
       "  ('german', 1),\n",
       "  ('giant', 1),\n",
       "  ('greatly', 1),\n",
       "  ('grow', 1),\n",
       "  ('growth', 1),\n",
       "  ('help', 1),\n",
       "  ('high', 2),\n",
       "  ('hope', 1),\n",
       "  ('increase', 1),\n",
       "  ('inquiry', 1),\n",
       "  ('intend', 1),\n",
       "  ('internet', 2),\n",
       "  ('investor', 1),\n",
       "  ('item', 1),\n",
       "  ('legal', 1),\n",
       "  ('less', 1),\n",
       "  ('lose', 1),\n",
       "  ('loss', 1),\n",
       "  ('low', 1),\n",
       "  ('margin', 1),\n",
       "  ('market', 1),\n",
       "  ('medium', 1),\n",
       "  ('month', 1),\n",
       "  ('music', 1),\n",
       "  ('objective', 1),\n",
       "  ('offer', 2),\n",
       "  ('online', 1),\n",
       "  ('operate', 1),\n",
       "  ('parson', 1),\n",
       "  ('part', 1),\n",
       "  ('pay', 1),\n",
       "  ('performance', 2),\n",
       "  ('previously', 1),\n",
       "  ('probe', 1),\n",
       "  ('profit', 8),\n",
       "  ('profitquarterly', 1),\n",
       "  ('publisher', 1),\n",
       "  ('quarter', 1),\n",
       "  ('regulator', 1),\n",
       "  ('reserve', 1),\n",
       "  ('resolve', 1),\n",
       "  ('result', 2),\n",
       "  ('revenue', 2),\n",
       "  ('review', 1),\n",
       "  ('rise', 2),\n",
       "  ('sale', 5),\n",
       "  ('sign', 1),\n",
       "  ('slightly', 1),\n",
       "  ('slump', 1),\n",
       "  ('stake', 2),\n",
       "  ('strong', 2),\n",
       "  ('subscriber', 2),\n",
       "  ('third', 1),\n",
       "  ('time', 2),\n",
       "  ('timewarner', 1),\n",
       "  ('trilogy', 1),\n",
       "  ('unable', 1),\n",
       "  ('user', 1),\n",
       "  ('value', 1),\n",
       "  ('well', 1),\n",
       "  ('wide', 1),\n",
       "  ('year', 4)]]"
      ]
     },
     "execution_count": 84,
     "metadata": {},
     "output_type": "execute_result"
    }
   ],
   "source": [
    "[[(id2word[id], freq) for id, freq in cp] for cp in corpus[:1]]"
   ]
  },
  {
   "cell_type": "code",
   "execution_count": 92,
   "metadata": {},
   "outputs": [
    {
     "name": "stderr",
     "output_type": "stream",
     "text": [
      "C:\\Users\\sanat\\AppData\\Roaming\\Python\\Python37\\site-packages\\ipykernel\\ipkernel.py:287: DeprecationWarning: `should_run_async` will not call `transform_cell` automatically in the future. Please pass the result to `transformed_cell` argument and any exception that happen during thetransform in `preprocessing_exc_tuple` in IPython 7.17 and above.\n",
      "  and should_run_async(code)\n"
     ]
    }
   ],
   "source": [
    "lda_model = gensim.models.ldamodel.LdaModel(corpus=corpus,\n",
    "                                           id2word=id2word,\n",
    "                                           num_topics=200, \n",
    "                                           random_state=100,\n",
    "                                           update_every=1,\n",
    "                                           chunksize=100,\n",
    "                                           passes=80,\n",
    "                                           alpha='auto',\n",
    "                                           per_word_topics=True)"
   ]
  },
  {
   "cell_type": "code",
   "execution_count": 93,
   "metadata": {},
   "outputs": [
    {
     "name": "stdout",
     "output_type": "stream",
     "text": [
      "[(186, '0.000*\"scurrilous\" + 0.000*\"purposely\" + 0.000*\"vague\" + 0.000*\"unfounded\" + 0.000*\"tyranny\" + 0.000*\"forthcome\" + 0.000*\"sixfold\" + 0.000*\"untreated\" + 0.000*\"fraudulently\" + 0.000*\"pledgelabour\"'), (67, '0.000*\"scurrilous\" + 0.000*\"purposely\" + 0.000*\"vague\" + 0.000*\"unfounded\" + 0.000*\"tyranny\" + 0.000*\"forthcome\" + 0.000*\"sixfold\" + 0.000*\"untreated\" + 0.000*\"fraudulently\" + 0.000*\"pledgelabour\"'), (65, '0.000*\"scurrilous\" + 0.000*\"purposely\" + 0.000*\"vague\" + 0.000*\"unfounded\" + 0.000*\"tyranny\" + 0.000*\"forthcome\" + 0.000*\"sixfold\" + 0.000*\"untreated\" + 0.000*\"fraudulently\" + 0.000*\"pledgelabour\"'), (182, '0.000*\"scurrilous\" + 0.000*\"purposely\" + 0.000*\"vague\" + 0.000*\"unfounded\" + 0.000*\"tyranny\" + 0.000*\"forthcome\" + 0.000*\"sixfold\" + 0.000*\"untreated\" + 0.000*\"fraudulently\" + 0.000*\"pledgelabour\"'), (184, '0.000*\"scurrilous\" + 0.000*\"purposely\" + 0.000*\"vague\" + 0.000*\"unfounded\" + 0.000*\"tyranny\" + 0.000*\"forthcome\" + 0.000*\"sixfold\" + 0.000*\"untreated\" + 0.000*\"fraudulently\" + 0.000*\"pledgelabour\"'), (138, '0.000*\"scurrilous\" + 0.000*\"purposely\" + 0.000*\"vague\" + 0.000*\"unfounded\" + 0.000*\"tyranny\" + 0.000*\"forthcome\" + 0.000*\"sixfold\" + 0.000*\"untreated\" + 0.000*\"fraudulently\" + 0.000*\"pledgelabour\"'), (165, '0.000*\"scurrilous\" + 0.000*\"purposely\" + 0.000*\"vague\" + 0.000*\"unfounded\" + 0.000*\"tyranny\" + 0.000*\"forthcome\" + 0.000*\"sixfold\" + 0.000*\"untreated\" + 0.000*\"fraudulently\" + 0.000*\"pledgelabour\"'), (12, '0.000*\"scurrilous\" + 0.000*\"purposely\" + 0.000*\"vague\" + 0.000*\"unfounded\" + 0.000*\"tyranny\" + 0.000*\"forthcome\" + 0.000*\"sixfold\" + 0.000*\"untreated\" + 0.000*\"fraudulently\" + 0.000*\"pledgelabour\"'), (43, '0.000*\"scurrilous\" + 0.000*\"purposely\" + 0.000*\"vague\" + 0.000*\"unfounded\" + 0.000*\"tyranny\" + 0.000*\"forthcome\" + 0.000*\"sixfold\" + 0.000*\"untreated\" + 0.000*\"fraudulently\" + 0.000*\"pledgelabour\"'), (45, '0.000*\"scurrilous\" + 0.000*\"purposely\" + 0.000*\"vague\" + 0.000*\"unfounded\" + 0.000*\"tyranny\" + 0.000*\"forthcome\" + 0.000*\"sixfold\" + 0.000*\"untreated\" + 0.000*\"fraudulently\" + 0.000*\"pledgelabour\"'), (30, '0.200*\"world\" + 0.185*\"second\" + 0.152*\"top\" + 0.092*\"third\" + 0.078*\"almost\" + 0.063*\"enough\" + 0.052*\"total\" + 0.043*\"quarter\" + 0.038*\"compare\" + 0.032*\"explain\"'), (132, '0.208*\"government\" + 0.140*\"plan\" + 0.078*\"support\" + 0.072*\"spokesman\" + 0.062*\"ensure\" + 0.051*\"state\" + 0.046*\"insist\" + 0.031*\"national\" + 0.028*\"operate\" + 0.026*\"document\"'), (15, '0.511*\"take\" + 0.144*\"place\" + 0.119*\"lead\" + 0.061*\"ahead\" + 0.037*\"secure\" + 0.028*\"meanwhile\" + 0.028*\"newspaper\" + 0.026*\"confident\" + 0.025*\"confirm\" + 0.000*\"purposely\"'), (162, '0.522*\"people\" + 0.152*\"help\" + 0.061*\"grow\" + 0.047*\"several\" + 0.044*\"least\" + 0.028*\"push\" + 0.026*\"spread\" + 0.018*\"worth\" + 0.015*\"element\" + 0.013*\"population\"'), (109, '0.092*\"country\" + 0.065*\"group\" + 0.051*\"develop\" + 0.048*\"power\" + 0.043*\"area\" + 0.041*\"consider\" + 0.031*\"family\" + 0.030*\"fact\" + 0.029*\"force\" + 0.029*\"moment\"'), (57, '0.097*\"early\" + 0.077*\"point\" + 0.058*\"remain\" + 0.057*\"close\" + 0.053*\"break\" + 0.052*\"level\" + 0.049*\"fall\" + 0.049*\"concern\" + 0.042*\"recent\" + 0.038*\"major\"'), (150, '0.079*\"tell\" + 0.071*\"face\" + 0.068*\"follow\" + 0.063*\"lose\" + 0.063*\"decision\" + 0.059*\"former\" + 0.049*\"claim\" + 0.045*\"charge\" + 0.044*\"case\" + 0.040*\"agree\"'), (159, '0.117*\"many\" + 0.097*\"user\" + 0.060*\"part\" + 0.055*\"mean\" + 0.047*\"information\" + 0.047*\"let\" + 0.035*\"small\" + 0.034*\"child\" + 0.034*\"base\" + 0.033*\"broadband\"'), (145, '0.240*\"year\" + 0.114*\"last\" + 0.073*\"month\" + 0.055*\"next\" + 0.053*\"expect\" + 0.051*\"big\" + 0.039*\"late\" + 0.036*\"long\" + 0.034*\"hit\" + 0.032*\"continue\"'), (181, '0.074*\"could\" + 0.071*\"time\" + 0.062*\"new\" + 0.053*\"come\" + 0.047*\"first\" + 0.043*\"add\" + 0.042*\"give\" + 0.031*\"back\" + 0.031*\"win\" + 0.029*\"much\"')]\n"
     ]
    },
    {
     "name": "stderr",
     "output_type": "stream",
     "text": [
      "C:\\Users\\sanat\\AppData\\Roaming\\Python\\Python37\\site-packages\\ipykernel\\ipkernel.py:287: DeprecationWarning: `should_run_async` will not call `transform_cell` automatically in the future. Please pass the result to `transformed_cell` argument and any exception that happen during thetransform in `preprocessing_exc_tuple` in IPython 7.17 and above.\n",
      "  and should_run_async(code)\n"
     ]
    }
   ],
   "source": [
    "print(lda_model.print_topics())\n",
    "doc_lda = lda_model[corpus]"
   ]
  },
  {
   "cell_type": "code",
   "execution_count": 94,
   "metadata": {},
   "outputs": [
    {
     "name": "stderr",
     "output_type": "stream",
     "text": [
      "C:\\Users\\sanat\\AppData\\Roaming\\Python\\Python37\\site-packages\\ipykernel\\ipkernel.py:287: DeprecationWarning: `should_run_async` will not call `transform_cell` automatically in the future. Please pass the result to `transformed_cell` argument and any exception that happen during thetransform in `preprocessing_exc_tuple` in IPython 7.17 and above.\n",
      "  and should_run_async(code)\n"
     ]
    },
    {
     "data": {
      "text/html": [
       "<div>\n",
       "<style scoped>\n",
       "    .dataframe tbody tr th:only-of-type {\n",
       "        vertical-align: middle;\n",
       "    }\n",
       "\n",
       "    .dataframe tbody tr th {\n",
       "        vertical-align: top;\n",
       "    }\n",
       "\n",
       "    .dataframe thead th {\n",
       "        text-align: right;\n",
       "    }\n",
       "</style>\n",
       "<table border=\"1\" class=\"dataframe\">\n",
       "  <thead>\n",
       "    <tr style=\"text-align: right;\">\n",
       "      <th></th>\n",
       "      <th>Document_No</th>\n",
       "      <th>Dominant_Topic</th>\n",
       "      <th>Topic_Perc_Contrib</th>\n",
       "      <th>Keywords</th>\n",
       "      <th>Text</th>\n",
       "    </tr>\n",
       "  </thead>\n",
       "  <tbody>\n",
       "    <tr>\n",
       "      <th>0</th>\n",
       "      <td>0</td>\n",
       "      <td>128.0</td>\n",
       "      <td>0.0910</td>\n",
       "      <td>turn, full, performance, wide, boost, giant, earn, gain, catch, marketing</td>\n",
       "      <td>[ad, sale, time, profitquarterly, profit, medium, giant, month, year, early, firm, big, investor...</td>\n",
       "    </tr>\n",
       "    <tr>\n",
       "      <th>1</th>\n",
       "      <td>1</td>\n",
       "      <td>57.0</td>\n",
       "      <td>0.2076</td>\n",
       "      <td>early, point, remain, close, break, level, fall, concern, recent, major</td>\n",
       "      <td>[dollar, hit, high, level, euro, almost, month, federal_reserve, head, trade, deficit, highlight...</td>\n",
       "    </tr>\n",
       "    <tr>\n",
       "      <th>2</th>\n",
       "      <td>2</td>\n",
       "      <td>99.0</td>\n",
       "      <td>0.1901</td>\n",
       "      <td>pay, money, instead, attempt, cash, avoid, intend, bank, protection, prevent</td>\n",
       "      <td>[unit, owner, russian, oil, former, production, unit, pay, back, loan, state, rosneft, buy, unit...</td>\n",
       "    </tr>\n",
       "    <tr>\n",
       "      <th>3</th>\n",
       "      <td>3</td>\n",
       "      <td>74.0</td>\n",
       "      <td>0.2227</td>\n",
       "      <td>high, increase, cost, cut, low, rise, predict, average, annual, revenue</td>\n",
       "      <td>[high, fuel, price, hit, blame, high, fuel, price, drop, profit, report, result, month, airline,...</td>\n",
       "    </tr>\n",
       "    <tr>\n",
       "      <th>4</th>\n",
       "      <td>4</td>\n",
       "      <td>54.0</td>\n",
       "      <td>0.0830</td>\n",
       "      <td>bid, storage, owner, lift, specific, fair, argument, premium, acquisition, takeover</td>\n",
       "      <td>[talk, lift, domecqshare, drink, food, firm, ally, rise, speculation, could, target, suggest, fr...</td>\n",
       "    </tr>\n",
       "    <tr>\n",
       "      <th>5</th>\n",
       "      <td>5</td>\n",
       "      <td>17.0</td>\n",
       "      <td>0.0852</td>\n",
       "      <td>similar, common, technical, feed, successive, strengthen, climb, definition, implication, consum...</td>\n",
       "      <td>[narrowly, escape, recessionjapan, economy, teeter, brink, technical, recession, month, figure, ...</td>\n",
       "    </tr>\n",
       "    <tr>\n",
       "      <th>6</th>\n",
       "      <td>6</td>\n",
       "      <td>181.0</td>\n",
       "      <td>0.1371</td>\n",
       "      <td>could, time, new, come, first, add, give, back, win, much</td>\n",
       "      <td>[job, growth, still, slow, create, job, expect, fall, jobseeker, push, low, level, year, accord,...</td>\n",
       "    </tr>\n",
       "    <tr>\n",
       "      <th>7</th>\n",
       "      <td>7</td>\n",
       "      <td>63.0</td>\n",
       "      <td>0.1144</td>\n",
       "      <td>policy, meet, meeting, fix, attend, exchange, invite, negative, object, flexible</td>\n",
       "      <td>[trade, rulesindia, attend, meet, lead, unlikely, cow, newcomer, ahead, meet, restrictive, trade...</td>\n",
       "    </tr>\n",
       "    <tr>\n",
       "      <th>8</th>\n",
       "      <td>8</td>\n",
       "      <td>159.0</td>\n",
       "      <td>0.2037</td>\n",
       "      <td>many, user, part, mean, information, let, small, child, base, broadband</td>\n",
       "      <td>[production, crop, high, average, past, year, report, crop, production, total, joint, report, fo...</td>\n",
       "    </tr>\n",
       "    <tr>\n",
       "      <th>9</th>\n",
       "      <td>9</td>\n",
       "      <td>68.0</td>\n",
       "      <td>0.1566</td>\n",
       "      <td>law, rule, appeal, foreign, kind, throw, conference, anti, danger, illegally</td>\n",
       "      <td>[court, reject, government, claim, accuse, country, big, tobacco, company, cover, effect, smoke,...</td>\n",
       "    </tr>\n",
       "  </tbody>\n",
       "</table>\n",
       "</div>"
      ],
      "text/plain": [
       "   Document_No  Dominant_Topic  Topic_Perc_Contrib  \\\n",
       "0            0           128.0              0.0910   \n",
       "1            1            57.0              0.2076   \n",
       "2            2            99.0              0.1901   \n",
       "3            3            74.0              0.2227   \n",
       "4            4            54.0              0.0830   \n",
       "5            5            17.0              0.0852   \n",
       "6            6           181.0              0.1371   \n",
       "7            7            63.0              0.1144   \n",
       "8            8           159.0              0.2037   \n",
       "9            9            68.0              0.1566   \n",
       "\n",
       "                                                                                              Keywords  \\\n",
       "0                            turn, full, performance, wide, boost, giant, earn, gain, catch, marketing   \n",
       "1                              early, point, remain, close, break, level, fall, concern, recent, major   \n",
       "2                         pay, money, instead, attempt, cash, avoid, intend, bank, protection, prevent   \n",
       "3                              high, increase, cost, cut, low, rise, predict, average, annual, revenue   \n",
       "4                  bid, storage, owner, lift, specific, fair, argument, premium, acquisition, takeover   \n",
       "5  similar, common, technical, feed, successive, strengthen, climb, definition, implication, consum...   \n",
       "6                                            could, time, new, come, first, add, give, back, win, much   \n",
       "7                     policy, meet, meeting, fix, attend, exchange, invite, negative, object, flexible   \n",
       "8                              many, user, part, mean, information, let, small, child, base, broadband   \n",
       "9                         law, rule, appeal, foreign, kind, throw, conference, anti, danger, illegally   \n",
       "\n",
       "                                                                                                  Text  \n",
       "0  [ad, sale, time, profitquarterly, profit, medium, giant, month, year, early, firm, big, investor...  \n",
       "1  [dollar, hit, high, level, euro, almost, month, federal_reserve, head, trade, deficit, highlight...  \n",
       "2  [unit, owner, russian, oil, former, production, unit, pay, back, loan, state, rosneft, buy, unit...  \n",
       "3  [high, fuel, price, hit, blame, high, fuel, price, drop, profit, report, result, month, airline,...  \n",
       "4  [talk, lift, domecqshare, drink, food, firm, ally, rise, speculation, could, target, suggest, fr...  \n",
       "5  [narrowly, escape, recessionjapan, economy, teeter, brink, technical, recession, month, figure, ...  \n",
       "6  [job, growth, still, slow, create, job, expect, fall, jobseeker, push, low, level, year, accord,...  \n",
       "7  [trade, rulesindia, attend, meet, lead, unlikely, cow, newcomer, ahead, meet, restrictive, trade...  \n",
       "8  [production, crop, high, average, past, year, report, crop, production, total, joint, report, fo...  \n",
       "9  [court, reject, government, claim, accuse, country, big, tobacco, company, cover, effect, smoke,...  "
      ]
     },
     "execution_count": 94,
     "metadata": {},
     "output_type": "execute_result"
    }
   ],
   "source": [
    "def format_topics_sentences(ldamodel=None, corpus=corpus, texts=data_lemmatized):\n",
    "    # Init output\n",
    "    sent_topics_df = pd.DataFrame()\n",
    "\n",
    "    # Get main topic in each document\n",
    "    for i, row_list in enumerate(ldamodel[corpus]):\n",
    "        row = row_list[0] if ldamodel.per_word_topics else row_list            \n",
    "        # print(row)\n",
    "        row = sorted(row, key=lambda x: (x[1]), reverse=True)\n",
    "        # Get the Dominant topic, Perc Contribution and Keywords for each document\n",
    "        for j, (topic_num, prop_topic) in enumerate(row):\n",
    "            if j == 0:  # => dominant topic\n",
    "                wp = ldamodel.show_topic(topic_num)\n",
    "                topic_keywords = \", \".join([word for word, prop in wp])\n",
    "                sent_topics_df = sent_topics_df.append(pd.Series([int(topic_num), round(prop_topic,4), topic_keywords]), ignore_index=True)\n",
    "            else:\n",
    "                break\n",
    "    sent_topics_df.columns = ['Dominant_Topic', 'Perc_Contribution', 'Topic_Keywords']\n",
    "\n",
    "    # Add original text to the end of the output\n",
    "    contents = pd.Series(texts)\n",
    "    sent_topics_df = pd.concat([sent_topics_df, contents], axis=1)\n",
    "    return(sent_topics_df)\n",
    "\n",
    "\n",
    "df_topic_sents_keywords = format_topics_sentences(ldamodel=lda_model, corpus=corpus, texts=data_lemmatized)\n",
    "\n",
    "# Format\n",
    "df_dominant_topic = df_topic_sents_keywords.reset_index()\n",
    "df_dominant_topic.columns = ['Document_No', 'Dominant_Topic', 'Topic_Perc_Contrib', 'Keywords', 'Text']\n",
    "df_dominant_topic.head(10)\n"
   ]
  },
  {
   "cell_type": "code",
   "execution_count": 95,
   "metadata": {},
   "outputs": [
    {
     "name": "stderr",
     "output_type": "stream",
     "text": [
      "C:\\Users\\sanat\\AppData\\Roaming\\Python\\Python37\\site-packages\\ipykernel\\ipkernel.py:287: DeprecationWarning: `should_run_async` will not call `transform_cell` automatically in the future. Please pass the result to `transformed_cell` argument and any exception that happen during thetransform in `preprocessing_exc_tuple` in IPython 7.17 and above.\n",
      "  and should_run_async(code)\n"
     ]
    },
    {
     "data": {
      "text/html": [
       "<div>\n",
       "<style scoped>\n",
       "    .dataframe tbody tr th:only-of-type {\n",
       "        vertical-align: middle;\n",
       "    }\n",
       "\n",
       "    .dataframe tbody tr th {\n",
       "        vertical-align: top;\n",
       "    }\n",
       "\n",
       "    .dataframe thead th {\n",
       "        text-align: right;\n",
       "    }\n",
       "</style>\n",
       "<table border=\"1\" class=\"dataframe\">\n",
       "  <thead>\n",
       "    <tr style=\"text-align: right;\">\n",
       "      <th></th>\n",
       "      <th>Topic_Num</th>\n",
       "      <th>Topic_Perc_Contrib</th>\n",
       "      <th>Keywords</th>\n",
       "      <th>Representative Text</th>\n",
       "    </tr>\n",
       "  </thead>\n",
       "  <tbody>\n",
       "    <tr>\n",
       "      <th>0</th>\n",
       "      <td>0.0</td>\n",
       "      <td>0.1362</td>\n",
       "      <td>labour, economy, economic, publish, forecast, entire, economist, weak, unemployment, optimistic</td>\n",
       "      <td>[cut, german, growth, estimatethe, fund, cut, growth, forecast, german, economy, report, reduce,...</td>\n",
       "    </tr>\n",
       "    <tr>\n",
       "      <th>1</th>\n",
       "      <td>5.0</td>\n",
       "      <td>0.1210</td>\n",
       "      <td>market, sell, buy, analyst, large, investment, operation, loss, prefer, investor</td>\n",
       "      <td>[deadline, midnight, settle, potential, takeover, deadline, right, division, agree, european, op...</td>\n",
       "    </tr>\n",
       "    <tr>\n",
       "      <th>2</th>\n",
       "      <td>7.0</td>\n",
       "      <td>0.1411</td>\n",
       "      <td>list, race, together, evidence, commercial, paper, transfer, exploit, alliance, employer</td>\n",
       "      <td>[could, list, stock_market, part, report, fiat, restructure, business, reach, ownership, step, c...</td>\n",
       "    </tr>\n",
       "    <tr>\n",
       "      <th>3</th>\n",
       "      <td>13.0</td>\n",
       "      <td>0.1185</td>\n",
       "      <td>home, industry, producer, ambition, domestic, climate, overseas, strict, advertise, wine</td>\n",
       "      <td>[french, wine, top, french, government, hand, struggle, wine, industry, aid, help, battle, fall,...</td>\n",
       "    </tr>\n",
       "    <tr>\n",
       "      <th>4</th>\n",
       "      <td>15.0</td>\n",
       "      <td>0.0983</td>\n",
       "      <td>take, place, lead, ahead, secure, meanwhile, newspaper, confident, confirm, purposely</td>\n",
       "      <td>[focker, keep, leadfilm, comedy, meet_focker, sequel, meet, parent, top, third, week, movie, sti...</td>\n",
       "    </tr>\n",
       "    <tr>\n",
       "      <th>5</th>\n",
       "      <td>17.0</td>\n",
       "      <td>0.0852</td>\n",
       "      <td>similar, common, technical, feed, successive, strengthen, climb, definition, implication, consum...</td>\n",
       "      <td>[narrowly, escape, recessionjapan, economy, teeter, brink, technical, recession, month, figure, ...</td>\n",
       "    </tr>\n",
       "    <tr>\n",
       "      <th>6</th>\n",
       "      <td>19.0</td>\n",
       "      <td>0.1650</td>\n",
       "      <td>become, likely, step, choice, ago, sort, achieve, probably, memory, accept</td>\n",
       "      <td>[close, debt, restructuring, offer, later, government, hopeful, creditor, accept, deal, original...</td>\n",
       "    </tr>\n",
       "    <tr>\n",
       "      <th>7</th>\n",
       "      <td>21.0</td>\n",
       "      <td>0.1563</td>\n",
       "      <td>name, type, establish, draft, alternative, drink, therefore, super, occur, nature</td>\n",
       "      <td>[turn, brewer, increasingly, money, beer, flavour, drink, rather, beer, heavily, drive, search, ...</td>\n",
       "    </tr>\n",
       "    <tr>\n",
       "      <th>8</th>\n",
       "      <td>26.0</td>\n",
       "      <td>0.1564</td>\n",
       "      <td>growth, rate, rise, grow, equipment, expand, quarter, solid, interest_rate, spending</td>\n",
       "      <td>[economy, show, solid, growththe, economy, grow, expect, expand, annual, rate, last, quarter, gr...</td>\n",
       "    </tr>\n",
       "    <tr>\n",
       "      <th>9</th>\n",
       "      <td>27.0</td>\n",
       "      <td>0.1274</td>\n",
       "      <td>hold, fast, due, datum, club, clear, sure, ground, signal, criticism</td>\n",
       "      <td>[economy, strong, forecast, economy, probably, grow, fast, rate, third, quarter, business, surve...</td>\n",
       "    </tr>\n",
       "  </tbody>\n",
       "</table>\n",
       "</div>"
      ],
      "text/plain": [
       "   Topic_Num  Topic_Perc_Contrib  \\\n",
       "0        0.0              0.1362   \n",
       "1        5.0              0.1210   \n",
       "2        7.0              0.1411   \n",
       "3       13.0              0.1185   \n",
       "4       15.0              0.0983   \n",
       "5       17.0              0.0852   \n",
       "6       19.0              0.1650   \n",
       "7       21.0              0.1563   \n",
       "8       26.0              0.1564   \n",
       "9       27.0              0.1274   \n",
       "\n",
       "                                                                                              Keywords  \\\n",
       "0      labour, economy, economic, publish, forecast, entire, economist, weak, unemployment, optimistic   \n",
       "1                     market, sell, buy, analyst, large, investment, operation, loss, prefer, investor   \n",
       "2             list, race, together, evidence, commercial, paper, transfer, exploit, alliance, employer   \n",
       "3             home, industry, producer, ambition, domestic, climate, overseas, strict, advertise, wine   \n",
       "4                take, place, lead, ahead, secure, meanwhile, newspaper, confident, confirm, purposely   \n",
       "5  similar, common, technical, feed, successive, strengthen, climb, definition, implication, consum...   \n",
       "6                           become, likely, step, choice, ago, sort, achieve, probably, memory, accept   \n",
       "7                    name, type, establish, draft, alternative, drink, therefore, super, occur, nature   \n",
       "8                 growth, rate, rise, grow, equipment, expand, quarter, solid, interest_rate, spending   \n",
       "9                                 hold, fast, due, datum, club, clear, sure, ground, signal, criticism   \n",
       "\n",
       "                                                                                   Representative Text  \n",
       "0  [cut, german, growth, estimatethe, fund, cut, growth, forecast, german, economy, report, reduce,...  \n",
       "1  [deadline, midnight, settle, potential, takeover, deadline, right, division, agree, european, op...  \n",
       "2  [could, list, stock_market, part, report, fiat, restructure, business, reach, ownership, step, c...  \n",
       "3  [french, wine, top, french, government, hand, struggle, wine, industry, aid, help, battle, fall,...  \n",
       "4  [focker, keep, leadfilm, comedy, meet_focker, sequel, meet, parent, top, third, week, movie, sti...  \n",
       "5  [narrowly, escape, recessionjapan, economy, teeter, brink, technical, recession, month, figure, ...  \n",
       "6  [close, debt, restructuring, offer, later, government, hopeful, creditor, accept, deal, original...  \n",
       "7  [turn, brewer, increasingly, money, beer, flavour, drink, rather, beer, heavily, drive, search, ...  \n",
       "8  [economy, show, solid, growththe, economy, grow, expect, expand, annual, rate, last, quarter, gr...  \n",
       "9  [economy, strong, forecast, economy, probably, grow, fast, rate, third, quarter, business, surve...  "
      ]
     },
     "execution_count": 95,
     "metadata": {},
     "output_type": "execute_result"
    }
   ],
   "source": [
    "# Display setting to show more characters in column\n",
    "pd.options.display.max_colwidth = 100\n",
    "\n",
    "sent_topics_sorteddf_mallet = pd.DataFrame()\n",
    "sent_topics_outdf_grpd = df_topic_sents_keywords.groupby('Dominant_Topic')\n",
    "\n",
    "for i, grp in sent_topics_outdf_grpd:\n",
    "    sent_topics_sorteddf_mallet = pd.concat([sent_topics_sorteddf_mallet, \n",
    "                                             grp.sort_values(['Perc_Contribution'], ascending=False).head(1)], \n",
    "                                            axis=0)\n",
    "\n",
    "# Reset Index    \n",
    "sent_topics_sorteddf_mallet.reset_index(drop=True, inplace=True)\n",
    "\n",
    "# Format\n",
    "sent_topics_sorteddf_mallet.columns = ['Topic_Num', \"Topic_Perc_Contrib\", \"Keywords\", \"Representative Text\"]\n",
    "\n",
    "# Show\n",
    "sent_topics_sorteddf_mallet.head(10)"
   ]
  },
  {
   "cell_type": "code",
   "execution_count": 96,
   "metadata": {},
   "outputs": [
    {
     "name": "stderr",
     "output_type": "stream",
     "text": [
      "C:\\Users\\sanat\\AppData\\Roaming\\Python\\Python37\\site-packages\\ipykernel\\ipkernel.py:287: DeprecationWarning: `should_run_async` will not call `transform_cell` automatically in the future. Please pass the result to `transformed_cell` argument and any exception that happen during thetransform in `preprocessing_exc_tuple` in IPython 7.17 and above.\n",
      "  and should_run_async(code)\n"
     ]
    },
    {
     "data": {
      "image/png": "[encoded data removed]",
      "text/plain": [
       "<Figure size 720x720 with 4 Axes>"
      ]
     },
     "metadata": {
      "needs_background": "light"
     },
     "output_type": "display_data"
    }
   ],
   "source": [
    "import wordcloud\n",
    "# 1. Wordcloud of Top N words in each topic\n",
    "from matplotlib import pyplot as plt\n",
    "from wordcloud import WordCloud, STOPWORDS\n",
    "import matplotlib.colors as mcolors\n",
    "\n",
    "cols = [color for name, color in mcolors.TABLEAU_COLORS.items()]  # more colors: 'mcolors.XKCD_COLORS'\n",
    "\n",
    "cloud = WordCloud(stopwords=stop_words,\n",
    "                  background_color='white',\n",
    "                  width=2500,\n",
    "                  height=1800,\n",
    "                  max_words=10,\n",
    "                  colormap='tab10',\n",
    "                  color_func=lambda *args, **kwargs: cols[i],\n",
    "                  prefer_horizontal=1.0)\n",
    "\n",
    "topics = lda_model.show_topics(formatted=False)\n",
    "\n",
    "fig, axes = plt.subplots(2, 2, figsize=(10,10), sharex=True, sharey=True)\n",
    "\n",
    "for i, ax in enumerate(axes.flatten()):\n",
    "    fig.add_subplot(ax)\n",
    "    topic_words = dict(topics[i][1])\n",
    "    cloud.generate_from_frequencies(topic_words, max_font_size=300)\n",
    "    plt.gca().imshow(cloud)\n",
    "    plt.gca().set_title('Topic ' + str(i), fontdict=dict(size=16))\n",
    "    plt.gca().axis('off')\n",
    "\n",
    "\n",
    "plt.subplots_adjust(wspace=0, hspace=0)\n",
    "plt.axis('off')\n",
    "plt.margins(x=0, y=0)\n",
    "plt.tight_layout()\n",
    "plt.show()"
   ]
  },
  {
   "cell_type": "code",
   "execution_count": 97,
   "metadata": {},
   "outputs": [
    {
     "name": "stderr",
     "output_type": "stream",
     "text": [
      "C:\\Users\\sanat\\AppData\\Roaming\\Python\\Python37\\site-packages\\ipykernel\\ipkernel.py:287: DeprecationWarning: `should_run_async` will not call `transform_cell` automatically in the future. Please pass the result to `transformed_cell` argument and any exception that happen during thetransform in `preprocessing_exc_tuple` in IPython 7.17 and above.\n",
      "  and should_run_async(code)\n"
     ]
    }
   ],
   "source": [
    "# Sentence Coloring of N Sentences\n",
    "def topics_per_document(model, corpus, start=0, end=1):\n",
    "    corpus_sel = corpus[start:end]\n",
    "    dominant_topics = []\n",
    "    topic_percentages = []\n",
    "    for i, corp in enumerate(corpus_sel):\n",
    "        topic_percs, wordid_topics, wordid_phivalues = model[corp]\n",
    "        dominant_topic = sorted(topic_percs, key = lambda x: x[1], reverse=True)[0][0]\n",
    "        dominant_topics.append((i, dominant_topic))\n",
    "        topic_percentages.append(topic_percs)\n",
    "    return(dominant_topics, topic_percentages)\n",
    "\n",
    "dominant_topics, topic_percentages = topics_per_document(model=lda_model, corpus=corpus, end=-1)            \n",
    "\n",
    "# Distribution of Dominant Topics in Each Document\n",
    "df = pd.DataFrame(dominant_topics, columns=['Document_Id', 'Dominant_Topic'])\n",
    "dominant_topic_in_each_doc = df.groupby('Dominant_Topic').size()\n",
    "df_dominant_topic_in_each_doc = dominant_topic_in_each_doc.to_frame(name='count').reset_index()\n",
    "\n",
    "# Total Topic Distribution by actual weight\n",
    "topic_weightage_by_doc = pd.DataFrame([dict(t) for t in topic_percentages])\n",
    "df_topic_weightage_by_doc = topic_weightage_by_doc.sum().to_frame(name='count').reset_index()\n",
    "\n",
    "# Top 3 Keywords for each Topic\n",
    "topic_top3words = [(i, topic) for i, topics in lda_model.show_topics(formatted=False) \n",
    "                                 for j, (topic, wt) in enumerate(topics) if j < 3]\n",
    "\n",
    "df_top3words_stacked = pd.DataFrame(topic_top3words, columns=['topic_id', 'words'])\n",
    "df_top3words = df_top3words_stacked.groupby('topic_id').agg(', \\n'.join)\n",
    "df_top3words.reset_index(level=0,inplace=True)"
   ]
  },
  {
   "cell_type": "code",
   "execution_count": 98,
   "metadata": {},
   "outputs": [
    {
     "name": "stderr",
     "output_type": "stream",
     "text": [
      "C:\\Users\\sanat\\AppData\\Roaming\\Python\\Python37\\site-packages\\ipykernel\\ipkernel.py:287: DeprecationWarning: `should_run_async` will not call `transform_cell` automatically in the future. Please pass the result to `transformed_cell` argument and any exception that happen during thetransform in `preprocessing_exc_tuple` in IPython 7.17 and above.\n",
      "  and should_run_async(code)\n"
     ]
    },
    {
     "data": {
      "text/html": [
       "<div>\n",
       "<style scoped>\n",
       "    .dataframe tbody tr th:only-of-type {\n",
       "        vertical-align: middle;\n",
       "    }\n",
       "\n",
       "    .dataframe tbody tr th {\n",
       "        vertical-align: top;\n",
       "    }\n",
       "\n",
       "    .dataframe thead th {\n",
       "        text-align: right;\n",
       "    }\n",
       "</style>\n",
       "<table border=\"1\" class=\"dataframe\">\n",
       "  <thead>\n",
       "    <tr style=\"text-align: right;\">\n",
       "      <th></th>\n",
       "      <th>topic_id</th>\n",
       "      <th>words</th>\n",
       "    </tr>\n",
       "  </thead>\n",
       "  <tbody>\n",
       "    <tr>\n",
       "      <th>0</th>\n",
       "      <td>41</td>\n",
       "      <td>scurrilous, \\npurposely, \\nvague</td>\n",
       "    </tr>\n",
       "    <tr>\n",
       "      <th>1</th>\n",
       "      <td>57</td>\n",
       "      <td>early, \\npoint, \\nremain</td>\n",
       "    </tr>\n",
       "    <tr>\n",
       "      <th>2</th>\n",
       "      <td>61</td>\n",
       "      <td>scurrilous, \\npurposely, \\nvague</td>\n",
       "    </tr>\n",
       "    <tr>\n",
       "      <th>3</th>\n",
       "      <td>86</td>\n",
       "      <td>scurrilous, \\npurposely, \\nvague</td>\n",
       "    </tr>\n",
       "    <tr>\n",
       "      <th>4</th>\n",
       "      <td>97</td>\n",
       "      <td>scurrilous, \\npurposely, \\nvague</td>\n",
       "    </tr>\n",
       "  </tbody>\n",
       "</table>\n",
       "</div>"
      ],
      "text/plain": [
       "   topic_id                             words\n",
       "0        41  scurrilous, \\npurposely, \\nvague\n",
       "1        57          early, \\npoint, \\nremain\n",
       "2        61  scurrilous, \\npurposely, \\nvague\n",
       "3        86  scurrilous, \\npurposely, \\nvague\n",
       "4        97  scurrilous, \\npurposely, \\nvague"
      ]
     },
     "execution_count": 98,
     "metadata": {},
     "output_type": "execute_result"
    }
   ],
   "source": [
    "df_top3words.head()"
   ]
  },
  {
   "cell_type": "code",
   "execution_count": null,
   "metadata": {},
   "outputs": [],
   "source": []
  }
 ],
 "metadata": {
  "kernelspec": {
   "display_name": "Python 3",
   "language": "python",
   "name": "python3"
  },
  "language_info": {
   "codemirror_mode": {
    "name": "ipython",
    "version": 3
   },
   "file_extension": ".py",
   "mimetype": "text/x-python",
   "name": "python",
   "nbconvert_exporter": "python",
   "pygments_lexer": "ipython3",
   "version": "3.7.6"
  }
 },
 "nbformat": 4,
 "nbformat_minor": 4
}
